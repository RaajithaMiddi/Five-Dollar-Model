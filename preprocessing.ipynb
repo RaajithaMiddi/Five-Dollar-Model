{
 "cells": [
  {
   "metadata": {},
   "cell_type": "markdown",
   "source": "# Imports",
   "id": "b26629fc2d7ca83c"
  },
  {
   "cell_type": "code",
   "id": "initial_id",
   "metadata": {
    "collapsed": true,
    "ExecuteTime": {
     "end_time": "2024-07-26T08:29:48.494489Z",
     "start_time": "2024-07-26T08:29:45.525973Z"
    }
   },
   "source": [
    "import ast\n",
    "import time \n",
    "import re\n",
    "\n",
    "import numpy as np\n",
    "from sklearn.cluster import KMeans\n",
    "\n",
    "import torch\n",
    "import torch.nn.functional as F\n",
    "\n",
    "from transformers import AutoTokenizer, AutoModel\n",
    "\n",
    "from openai import OpenAI\n",
    "import tiktoken"
   ],
   "outputs": [],
   "execution_count": 223
  },
  {
   "metadata": {
    "ExecuteTime": {
     "end_time": "2024-07-24T02:24:10.035806Z",
     "start_time": "2024-07-24T02:24:10.034477Z"
    }
   },
   "cell_type": "code",
   "source": "",
   "id": "83fd8dbdab0162b",
   "outputs": [],
   "execution_count": 1
  },
  {
   "metadata": {
    "ExecuteTime": {
     "end_time": "2024-07-24T02:24:10.050957Z",
     "start_time": "2024-07-24T02:24:10.036420Z"
    }
   },
   "cell_type": "code",
   "source": "data = np.load('datasets/emoji_apple_style.npy', allow_pickle=True).item()",
   "id": "c4ec8847364209fe",
   "outputs": [],
   "execution_count": 2
  },
  {
   "metadata": {
    "ExecuteTime": {
     "end_time": "2024-07-24T02:24:10.055458Z",
     "start_time": "2024-07-24T02:24:10.052213Z"
    }
   },
   "cell_type": "code",
   "source": "data.keys()",
   "id": "5074269279a19c18",
   "outputs": [
    {
     "data": {
      "text/plain": [
       "dict_keys(['images', 'labels', 'embeddings', 'color_palette'])"
      ]
     },
     "execution_count": 3,
     "metadata": {},
     "output_type": "execute_result"
    }
   ],
   "execution_count": 3
  },
  {
   "metadata": {
    "ExecuteTime": {
     "end_time": "2024-07-24T03:06:52.079190Z",
     "start_time": "2024-07-24T03:06:52.071104Z"
    }
   },
   "cell_type": "code",
   "source": "data = list(data)",
   "id": "93671e515d0eba68",
   "outputs": [],
   "execution_count": 9
  },
  {
   "metadata": {
    "ExecuteTime": {
     "end_time": "2024-07-26T06:29:35.960963Z",
     "start_time": "2024-07-26T06:29:35.539545Z"
    }
   },
   "cell_type": "code",
   "source": [
    "# sentence embedding model\n",
    "# https://huggingface.co/sentence-transformers/multi-qa-MiniLM-L6-cos-v1\n",
    "\n",
    "# limit of 512 word pieces, trained on length of 250 word pieces and might not work for longer texts\n",
    "\n",
    "uri_name = \"sentence-transformers/multi-qa-MiniLM-L6-cos-v1\"\n",
    "TOKENIZER = AutoTokenizer.from_pretrained(uri_name)\n",
    "MODEL = AutoModel.from_pretrained(uri_name)"
   ],
   "id": "7cc3146ffeee98c2",
   "outputs": [
    {
     "name": "stderr",
     "output_type": "stream",
     "text": [
      "/Users/henrymei/anaconda3/envs/five-dollar-model/lib/python3.9/site-packages/huggingface_hub/file_download.py:1132: FutureWarning: `resume_download` is deprecated and will be removed in version 1.0.0. Downloads always resume when possible. If you want to force a new download, use `force_download=True`.\n",
      "  warnings.warn(\n"
     ]
    }
   ],
   "execution_count": 136
  },
  {
   "metadata": {},
   "cell_type": "markdown",
   "source": "# Feature Generation",
   "id": "661de64a2bb5a020"
  },
  {
   "metadata": {},
   "cell_type": "markdown",
   "source": "## Create embeddings",
   "id": "1c3664de4510a99d"
  },
  {
   "metadata": {
    "ExecuteTime": {
     "end_time": "2024-07-24T07:24:27.003985Z",
     "start_time": "2024-07-24T07:24:27.000645Z"
    }
   },
   "cell_type": "code",
   "source": [
    "# Mean Pooling - Take average of all tokens\n",
    "# see: https://huggingface.co/sentence-transformers/multi-qa-MiniLM-L6-cos-v1#pytorch-usage-huggingface-transformers\n",
    "def _mean_pooling(model_output, attention_mask):\n",
    "    token_embeddings = model_output.last_hidden_state\n",
    "    input_mask_expanded = attention_mask.unsqueeze(-1).expand(token_embeddings.size()).float()\n",
    "    return torch.sum(token_embeddings * input_mask_expanded, 1) / torch.clamp(input_mask_expanded.sum(1), min=1e-9)"
   ],
   "id": "7581be0f8c9081c2",
   "outputs": [],
   "execution_count": 46
  },
  {
   "metadata": {
    "ExecuteTime": {
     "end_time": "2024-07-24T07:24:28.241262Z",
     "start_time": "2024-07-24T07:24:28.237684Z"
    }
   },
   "cell_type": "code",
   "source": [
    "def _tokenize(texts, tokenizer, max_length):\n",
    "    \"\"\"\n",
    "    Generate token for input text. \n",
    "    :param texts: a list of input sentences or texts to be processed\n",
    "    :param tokenizer: a Hugging Face tokenizer instance\n",
    "    :param max_length: an optional parameter for padding/truncation of text strings\n",
    "    :return: encoded inputs \n",
    "    \"\"\"\n",
    "    \n",
    "    padding = True if max_length == 0 else 'max_length'\n",
    "    \n",
    "    # __call__ the tokenizer \n",
    "    return tokenizer(\n",
    "        texts, \n",
    "        padding=padding,\n",
    "        truncation=True,\n",
    "        max_length=max_length,  # if left unset, uses model default \n",
    "        return_tensors='pt'  # return as torch tensors \n",
    "    )    "
   ],
   "id": "b6dcec421a9b6349",
   "outputs": [],
   "execution_count": 47
  },
  {
   "metadata": {
    "ExecuteTime": {
     "end_time": "2024-07-24T07:24:30.151715Z",
     "start_time": "2024-07-24T07:24:30.147790Z"
    }
   },
   "cell_type": "code",
   "source": [
    "def _embed(encoded_input, model):\n",
    "    \"\"\"\n",
    "    Take tokenized values and generate embeddings\n",
    "    :param encoded_input: encoded inputs generated by tokenizer \n",
    "    :param model: a Hugging Face model instance\n",
    "    :return: embedding vector\n",
    "    \"\"\"\n",
    "    \n",
    "    # Compute token embeddings\n",
    "    with torch.no_grad():  # only need forward pass here\n",
    "        embeddings_words = model(**encoded_input, return_dict=True)\n",
    "\n",
    "    # Perform mean pooling\n",
    "    # The attention mask ensures that padding tokens do not contribute to the averaged embedding.\n",
    "    # purpose is to take variable length sequences and output fixed length ones \n",
    "    embeddings_sentence = _mean_pooling(embeddings_words, encoded_input['attention_mask'])\n",
    "\n",
    "    # Normalize embeddings -- L2 = 1\n",
    "    embeddings_sentence = F.normalize(embeddings_sentence, p=2, dim=1)\n",
    "    \n",
    "    return embeddings_sentence, embeddings_words"
   ],
   "id": "c10954079b5c2f17",
   "outputs": [],
   "execution_count": 48
  },
  {
   "metadata": {
    "ExecuteTime": {
     "end_time": "2024-07-24T07:24:34.432454Z",
     "start_time": "2024-07-24T07:24:34.428601Z"
    }
   },
   "cell_type": "code",
   "source": [
    "def get_sent_word_embeddings(labels, model, tokenizer, max_length=None):\n",
    "    \"\"\"\n",
    "    Generate sentence embedding for input texts\n",
    "    :param model: Hugging Face model instance\n",
    "    :param tokenizer: Hugging Face tokenizer instance\n",
    "    :param labels: input labels from our training data \n",
    "    :param max_length: maximum length for padding/truncation fo input stirngs\n",
    "    :return: both mean-pooled sentence embedding and masked word embeddings \n",
    "    \"\"\"\n",
    "    \n",
    "    \n",
    "    encoded = _tokenize(labels, tokenizer, max_length)\n",
    "    embeddings_sentences, embeddings_words = _embed(encoded, model)\n",
    "\n",
    "    embeddings_words = embeddings_words['last_hidden_state'].detach().cpu().numpy()\n",
    "    embeddings_sentences = embeddings_sentences.detach().cpu().numpy()\n",
    "\n",
    "    return embeddings_sentences, embeddings_words"
   ],
   "id": "410102564bf0fe31",
   "outputs": [],
   "execution_count": 49
  },
  {
   "metadata": {},
   "cell_type": "markdown",
   "source": "# Augmentation",
   "id": "78d1ecb91af42e7a"
  },
  {
   "metadata": {},
   "cell_type": "markdown",
   "source": "## Gaussian Noise",
   "id": "26efed55ac407f6e"
  },
  {
   "metadata": {
    "ExecuteTime": {
     "end_time": "2024-07-26T06:40:06.594861Z",
     "start_time": "2024-07-26T06:40:06.590655Z"
    }
   },
   "cell_type": "code",
   "source": [
    "def add_noise_to_embeddings(embeddings, num_augmentations, noise_std_dev=0.01):\n",
    "    \"\"\"\n",
    "    \n",
    "    :param embeddings: input list of embeddings generated by get_sent_word_embeddings()\n",
    "    :param num_augmentations: number of noise variations to add\n",
    "    :param noise_std_dev: the standard deviation of multiplicative gaussian noise to add \n",
    "    :return: list of augmented embeddings and a list of their original embedding indices\n",
    "    \"\"\"\n",
    "    augmented_embeddings, augmented_idxs = [], []\n",
    "    \n",
    "    # Add Gaussian noise to the embeddings\n",
    "    for i, embedding in enumerate(embeddings):\n",
    "        for _ in range(num_augmentations):\n",
    "            # mean of 1, because this is multiplicative, since we want values that are 0 (or close) to stay 0\n",
    "            noise = np.random.normal(1, noise_std_dev, embedding.shape)\n",
    "            augmented_embedding = embedding * noise\n",
    "\n",
    "            augmented_embeddings.append(augmented_embedding)\n",
    "            augmented_idxs.append(i)\n",
    "    \n",
    "    # only return augmented values\n",
    "    return augmented_embeddings, augmented_idxs"
   ],
   "id": "9382bc75fc61e83",
   "outputs": [],
   "execution_count": 144
  },
  {
   "metadata": {},
   "cell_type": "markdown",
   "source": "## Mixup (Random)",
   "id": "a8e2dcd2ccea0b4b"
  },
  {
   "metadata": {
    "ExecuteTime": {
     "end_time": "2024-07-26T07:11:00.309552Z",
     "start_time": "2024-07-26T07:11:00.304368Z"
    }
   },
   "cell_type": "code",
   "source": [
    "def generate_augmentation_mixup(imgs, embeddings, n_mixups=1, lmbda=0.5):\n",
    "    \"\"\"\n",
    "    Applies mixup by randomly picking another image and soft updating the image and embedding\n",
    "    to produce a new sample. \n",
    "    \n",
    "    :param imgs: raw pre OHT images \n",
    "    :param embeddings: corresponding embedding vectors \n",
    "    :param n_mixups: number of random observations to mix up \n",
    "    :param lmbda: soft update parameter \n",
    "    :return: augmented images, embeddings, and original idxs \n",
    "    \"\"\"\n",
    "    augmented_imgs, augmented_embeddings, augmented_idxs = [], [], []\n",
    "    n_embeddings = len(embeddings)\n",
    "    \n",
    "    for i, (img, embedding) in enumerate(zip(imgs,embeddings)):\n",
    "        # Randomly select n_mixups indices without replacement\n",
    "        mixup_indices = np.random.choice(n_embeddings, n_mixups, replace=False)\n",
    "\n",
    "        # for each sampled index... \n",
    "        for idx in mixup_indices:\n",
    "            # make sure we're logging what was picked for debugging purposes \n",
    "            augmented_idxs.append((i, idx))\n",
    "            \n",
    "            # Get the corresponding levels, labels, and embeddings\n",
    "            mix_img = imgs[idx]\n",
    "            mix_embedding = embeddings[idx]\n",
    "            \n",
    "            # Interpolate the levels, labels, and embeddings\n",
    "            augmented_img = lmbda * img + (1 - lmbda) * mix_img\n",
    "            augmented_embedding = lmbda * embedding + (1 - lmbda) * mix_embedding\n",
    "            \n",
    "            # Append the new data to the augmented lists\n",
    "            augmented_imgs.append(augmented_img)\n",
    "            augmented_embeddings.append(augmented_embedding)\n",
    "\n",
    "    # only return the augmented values\n",
    "    return augmented_imgs, augmented_embeddings, augmented_idxs"
   ],
   "id": "4c7edb3ffc37df56",
   "outputs": [],
   "execution_count": 198
  },
  {
   "metadata": {},
   "cell_type": "markdown",
   "source": "## GPT",
   "id": "dd20fa73c358de96"
  },
  {
   "metadata": {},
   "cell_type": "markdown",
   "source": "### Load API key",
   "id": "ccb8a08973972ee3"
  },
  {
   "metadata": {},
   "cell_type": "code",
   "outputs": [],
   "execution_count": 117,
   "source": [
    "with open('apikey.env', 'r') as file:\n",
    "    # Read the content of the file\n",
    "    api_key = file.read().strip() "
   ],
   "id": "19c2887b3c2556c0"
  },
  {
   "metadata": {},
   "cell_type": "code",
   "outputs": [],
   "execution_count": 118,
   "source": "client = OpenAI(api_key=api_key)",
   "id": "60ff3a1bb4a858e9"
  },
  {
   "metadata": {},
   "cell_type": "markdown",
   "source": "### Estimate API token usage",
   "id": "85a6d537f3fa19ac"
  },
  {
   "metadata": {},
   "cell_type": "code",
   "outputs": [],
   "execution_count": 119,
   "source": [
    "def _compute_tokens_from_payload(payload, encoding):\n",
    "    \"\"\"\n",
    "    Estimate the number of tokens required in the request. \n",
    "    See: https://cookbook.openai.com/examples/how_to_count_tokens_with_tiktoken\n",
    "    \n",
    "    :param payload: an array of dicts or an array of strings \n",
    "    :param encoding: a tiktoken encoder instance \n",
    "    :return: a count of tokens \n",
    "    \"\"\"\n",
    "    num_tokens = 0\n",
    "    for message in payload:\n",
    "        num_tokens += 4  # every message follows <im_start>{role/name}\\n{content}<im_end>\\n\n",
    "        \n",
    "        # if we pass a wellformed payload \n",
    "        for key, value in message.items():\n",
    "            num_tokens += len(encoding.encode(value))\n",
    "                \n",
    "            # if there's a name, the role is not processed and so doesn't count to api usage\n",
    "            if key == \"name\":  \n",
    "                num_tokens += -1 \n",
    "    \n",
    "    # pad the estimate with the structure of response; note: does not include actual response\n",
    "    # every reply is primed with <im_start>assistant     \n",
    "    num_tokens += 2  \n",
    "    \n",
    "    return num_tokens"
   ],
   "id": "5dc83887bb3a795d"
  },
  {
   "metadata": {},
   "cell_type": "code",
   "outputs": [],
   "execution_count": 120,
   "source": [
    "def _compute_tokens_from_list(labels, encoding):\n",
    "    \"\"\"\n",
    "    Estimate the number of tokens required in the request. \n",
    "    See: https://cookbook.openai.com/examples/how_to_count_tokens_with_tiktoken\n",
    "    \n",
    "    :param labels: a list of string labels \n",
    "    :param encoding: a tiktoken encoder instance \n",
    "    :return: a count of tokens \n",
    "    \"\"\"\n",
    "    return [len(encoding.encode(l)) for l in labels]\n"
   ],
   "id": "eed9c9008289b4cf"
  },
  {
   "metadata": {},
   "cell_type": "markdown",
   "source": "### API calls and packaging",
   "id": "73352065b8c6785c"
  },
  {
   "metadata": {},
   "cell_type": "code",
   "outputs": [],
   "execution_count": 121,
   "source": [
    "def _create_payload(labels):\n",
    "    prompt = \"\"\"Take each string in the list provided, and write an alternate label for each one. These strings describe an image of a pixel video game map. These alternate labels should describe the same image as the original label, but use different words and a different sentence structure. Use simple or common words when writing the alternate labels. Assume you have the vocabulary of a 10 year old. Your output should have the same number of strings as the input list.\"\"\"\n",
    "\n",
    "    return [\n",
    "        {\"role\": \"system\", \"content\": \"You are a helpful assistant with excellent attention to detail. You only output python lists of strings according to the instructions you are given. Output the list on a single line, without any newlines. Make sure every list is closed properly\"},\n",
    "        {\"role\": \"user\", \"content\": f\"{prompt} Here is the list of labels: {labels}\"},            \n",
    "    ]"
   ],
   "id": "dd2c6783f39a1000"
  },
  {
   "metadata": {},
   "cell_type": "code",
   "outputs": [],
   "execution_count": 122,
   "source": [
    "def _call_gpt(messages, model):\n",
    "    return client.chat.completions.create(model=model, messages=messages)\n",
    "    # return openai.ChatCompletion.create(model=model, messages=messages)"
   ],
   "id": "1da52371195fb2c2"
  },
  {
   "metadata": {},
   "cell_type": "code",
   "outputs": [],
   "execution_count": 123,
   "source": [
    "# segment the data into sublists to not exceed api limits\n",
    "\n",
    "# tiktoken is a fast open-source tokenizer by OpenAI.\n",
    "\n",
    "# Given a text string (e.g., \"tiktoken is great!\") and an encoding (e.g., \"cl100k_base\"), a tokenizer can split the text string into a list of tokens (e.g., [\"t\", \"ik\", \"token\", \" is\", \" great\", \"!\"]).\n",
    "# \n",
    "# Splitting text strings into tokens is useful because GPT models see text in the form of tokens. Knowing how many tokens are in a text string can tell you (a) whether the string is too long for a text model to process and (b) how much an OpenAI API call costs (as usage is priced by token).\n",
    "def _chunk_labels(labels, encoding, threshold):\n",
    "    \"\"\"\n",
    "    \n",
    "    :param labels: feature inputs as a list of strings\n",
    "    :param encoding: a tiktoken encoder instance\n",
    "    :param threshold: a maximum token size to chunk the inputs into \n",
    "    :return: \n",
    "    \"\"\"\n",
    "\n",
    "    current_chunk, chunks = [], []\n",
    "    count_tokens = 0\n",
    "    label_tokens = _compute_tokens_from_list(labels, encoding)\n",
    "\n",
    "    # step throw all labels \n",
    "    for label, tokens in zip(labels, label_tokens):\n",
    "        print(label)\n",
    "        print(tokens)\n",
    "        # append labels to the current chunk and update our count\n",
    "        current_chunk.append(label)\n",
    "        count_tokens += tokens \n",
    "        \n",
    "        # if the array exceeds the token threshold then.... \n",
    "        if count_tokens + 2 > threshold:\n",
    "            \n",
    "            # remove the last label \n",
    "            hold = current_chunk.pop()\n",
    "            \n",
    "            # complain if the label itself is so big that it's as big as the threshold\n",
    "            if tokens > threshold:\n",
    "                raise Exception(f\"Label {label} is too big: *{tokens} tokens* for this threshold: *{threshold} tokens*\")\n",
    "            \n",
    "            # since we removed the offending label, the current chunk should be the right size\n",
    "            chunks.append(current_chunk)\n",
    "            \n",
    "            # start a new arr with the one we popped out and reset our counter\n",
    "            current_chunk = [hold] \n",
    "            count_tokens = 0\n",
    "            \n",
    "    # add the final set of labels \n",
    "    chunks.append(current_chunk)\n",
    "    \n",
    "    return chunks"
   ],
   "id": "dfafabdb44cf5dd7"
  },
  {
   "metadata": {},
   "cell_type": "code",
   "outputs": [
    {
     "name": "stdout",
     "output_type": "stream",
     "text": [
      "a buff man with a blue headband and red shirt\n",
      "11\n"
     ]
    },
    {
     "ename": "Exception",
     "evalue": "Label a buff man with a blue headband and red shirt is too big: *11 tokens* for this threshold: *1 tokens*",
     "output_type": "error",
     "traceback": [
      "\u001B[0;31m---------------------------------------------------------------------------\u001B[0m",
      "\u001B[0;31mException\u001B[0m                                 Traceback (most recent call last)",
      "Cell \u001B[0;32mIn[71], line 11\u001B[0m\n\u001B[1;32m      8\u001B[0m model \u001B[38;5;241m=\u001B[39m \u001B[38;5;124m'\u001B[39m\u001B[38;5;124mgpt-4o-mini\u001B[39m\u001B[38;5;124m'\u001B[39m\n\u001B[1;32m      9\u001B[0m encoding \u001B[38;5;241m=\u001B[39m tiktoken\u001B[38;5;241m.\u001B[39mencoding_for_model(model)\n\u001B[0;32m---> 11\u001B[0m \u001B[43m_chunk_labels\u001B[49m\u001B[43m(\u001B[49m\u001B[43mnewunseen_sprite\u001B[49m\u001B[43m,\u001B[49m\u001B[43m \u001B[49m\u001B[43mencoding\u001B[49m\u001B[43m,\u001B[49m\u001B[43m \u001B[49m\u001B[38;5;241;43m1\u001B[39;49m\u001B[43m)\u001B[49m\n",
      "Cell \u001B[0;32mIn[68], line 37\u001B[0m, in \u001B[0;36m_chunk_labels\u001B[0;34m(labels, encoding, threshold)\u001B[0m\n\u001B[1;32m     35\u001B[0m \u001B[38;5;66;03m# complain if the label itself is so big that it's as big as the threshold\u001B[39;00m\n\u001B[1;32m     36\u001B[0m \u001B[38;5;28;01mif\u001B[39;00m tokens \u001B[38;5;241m>\u001B[39m threshold:\n\u001B[0;32m---> 37\u001B[0m     \u001B[38;5;28;01mraise\u001B[39;00m \u001B[38;5;167;01mException\u001B[39;00m(\u001B[38;5;124mf\u001B[39m\u001B[38;5;124m\"\u001B[39m\u001B[38;5;124mLabel \u001B[39m\u001B[38;5;132;01m{\u001B[39;00mlabel\u001B[38;5;132;01m}\u001B[39;00m\u001B[38;5;124m is too big: *\u001B[39m\u001B[38;5;132;01m{\u001B[39;00mtokens\u001B[38;5;132;01m}\u001B[39;00m\u001B[38;5;124m tokens* for this threshold: *\u001B[39m\u001B[38;5;132;01m{\u001B[39;00mthreshold\u001B[38;5;132;01m}\u001B[39;00m\u001B[38;5;124m tokens*\u001B[39m\u001B[38;5;124m\"\u001B[39m)\n\u001B[1;32m     39\u001B[0m \u001B[38;5;66;03m# since we removed the offending label, the current chunk should be the right size\u001B[39;00m\n\u001B[1;32m     40\u001B[0m chunks\u001B[38;5;241m.\u001B[39mappend(current_chunk)\n",
      "\u001B[0;31mException\u001B[0m: Label a buff man with a blue headband and red shirt is too big: *11 tokens* for this threshold: *1 tokens*"
     ]
    }
   ],
   "execution_count": 71,
   "source": [
    "# newunseen_sprite = [\n",
    "#     \"a buff man with a blue headband and red shirt\", \n",
    "#     \"a blue duck with a red headband\", \n",
    "#     \"a green woman with blonde hair\", \n",
    "#     \"a dog with a black hat\", \n",
    "#     \"a man with blue shoes, a red hat, and a green shirt\"\n",
    "# ]\n",
    "# model = 'gpt-4o-mini'\n",
    "# encoding = tiktoken.encoding_for_model(model)\n",
    "# \n",
    "# _chunk_labels(newunseen_sprite, encoding, 1)"
   ],
   "id": "86cd5b9a08755d9b"
  },
  {
   "metadata": {},
   "cell_type": "code",
   "outputs": [],
   "execution_count": 124,
   "source": [
    "def _process_result(result):\n",
    "    \"\"\"\n",
    "    Filter out patterns that look like [' and '] \n",
    "    TODO: why don't we just look at those patterns directly instead of regex? \n",
    "    :param result: raw openAI API response \n",
    "    :return: processed answers \n",
    "    \"\"\"\n",
    "    answer = result.choices[0].message.content                \n",
    "    apostrophe_pattern = r\"(?<=\\w)'(?=[^,\\]])|'(?=\\w+?'\\s)\"\n",
    "    answer = re.sub(apostrophe_pattern, '', answer)\n",
    "    \n",
    "    idx_open = answer.find(\"[\")\n",
    "    idx_close = answer.find(']') + 1 # +1 since indexing ignores current spot \n",
    "    \n",
    "    return ast.literal_eval(answer[idx_open:idx_close])"
   ],
   "id": "9a5c6fc0cc4d534a"
  },
  {
   "metadata": {},
   "cell_type": "markdown",
   "source": "### Overall function",
   "id": "6adad05730ec10cc"
  },
  {
   "metadata": {},
   "cell_type": "code",
   "outputs": [],
   "execution_count": 125,
   "source": [
    "def get_gpt_alt_labels(labels, model='gpt-4o-mini', num_retries=3, debug=True):\n",
    "    \"\"\"\n",
    "    Call GPT to generate alternate labels. \n",
    "    :param labels: list of human-annotated labels \n",
    "    :param num_retries: how many times do we try again? \n",
    "    :return: (a list of alternate labels, api call response status)\n",
    "    \"\"\"\n",
    "\n",
    "    start = time.time()\n",
    "    \n",
    "    # it's probably clk100k_base (can pass to get_encoding()), but let's not assume\n",
    "    encoding = tiktoken.encoding_for_model(model)\n",
    "    prompt_size = _compute_tokens_from_payload(_create_payload([]), encoding)\n",
    "    \n",
    "    # chunk the prompt to the right size; if we pass in everything, it's gonna timeout/fail\n",
    "    threshold = 4000 - prompt_size \n",
    "    chunks = _chunk_labels(labels, encoding, threshold=threshold)\n",
    "\n",
    "    \n",
    "    if debug:\n",
    "        print(f'Prompt size: {prompt_size}')\n",
    "        print(f\"split time = {time.time() - start}\")\n",
    "        print(\"Number of loops: \", len(chunks))\n",
    "        \n",
    "    alt_labels = []\n",
    "    \n",
    "\n",
    "    for i, chunk in enumerate(chunks):\n",
    "        tries = 0\n",
    "        success = False\n",
    "        start = time.time()\n",
    "        \n",
    "        if debug:\n",
    "            print(f\"Loop {i} running through array of size {len(labels)}\")\n",
    "\n",
    "        while not success and tries < num_retries:\n",
    "            payload = _create_payload(chunk)\n",
    "            result = _call_gpt(payload, model)\n",
    "            alt_chunk = _process_result(result)\n",
    "\n",
    "            n_labels = len(chunk)\n",
    "            n_alts = len(alt_chunk)\n",
    "            \n",
    "            if n_labels == n_alts:\n",
    "                success = True\n",
    "            else:\n",
    "                tries += 1\n",
    "                \n",
    "                print(f'FAILED. {n_labels} labels but {n_alts} alts!')\n",
    "                print(f'attempting retry # {tries}')\n",
    "                \n",
    "        if success:\n",
    "            alt_labels += alt_chunk\n",
    "        else:\n",
    "            print(f\"failed completely after {num_retries} retries.\")\n",
    "            return\n",
    "        \n",
    "        if debug:\n",
    "            print(f\"api call time = {time.time() - start}\")\n",
    "\n",
    "    return alt_labels"
   ],
   "id": "8f815b6d9c3c7137"
  },
  {
   "metadata": {},
   "cell_type": "markdown",
   "source": "### GPT Label Mixup",
   "id": "4eb9c164546d01e5"
  },
  {
   "metadata": {
    "ExecuteTime": {
     "end_time": "2024-07-26T06:55:14.451836Z",
     "start_time": "2024-07-26T06:55:14.448824Z"
    }
   },
   "cell_type": "code",
   "source": [
    "# interpolate n times between a label and its altlabel (MUST BE CALLED RIGHT AFTER GPT AUG)\n",
    "def interpolate_embeddings(embeddings, alt_embeddings, n_steps=1):\n",
    "    \"\"\"\n",
    "    A different form of mixup where we take the original embedding and the GPT embedding and \n",
    "    generate additional embeddings in between via interpolation. \n",
    "    \n",
    "    The original method randomly picked a label but that's probably not useful here? \n",
    "    \n",
    "    :param embeddings: list of original embeddings \n",
    "    :param alt_embeddings: list of GPT embeddings\n",
    "    :param n_steps: number interpolated samples to draw \n",
    "    :return: list of interpolated embeddings and list of original indices \n",
    "    \"\"\"\n",
    "    interpolated_embeddings, interpolated_idxs = [], []\n",
    "    n_embeddings = len(embeddings) \n",
    "    \n",
    "    for i in range(n_embeddings):\n",
    "        alpha_values = np.linspace(0, 1, n_steps + 2)[1:-1]  # Exclude the 0 and 1 values\n",
    "        \n",
    "        for alpha in alpha_values:\n",
    "            interpolated_embedding = alpha * embeddings[i] + (1 - alpha) * alt_embeddings[i] \n",
    "            interpolated_embeddings.append(interpolated_embedding)\n",
    "            interpolated_idxs.append(i)\n",
    "\n",
    "    # only return the augmented samples\n",
    "    return interpolated_embeddings, interpolated_idxs"
   ],
   "id": "401099e3b6e9dcd9",
   "outputs": [],
   "execution_count": 154
  },
  {
   "metadata": {},
   "cell_type": "markdown",
   "source": "# Quantize Images",
   "id": "c4570e199220effe"
  },
  {
   "metadata": {
    "ExecuteTime": {
     "end_time": "2024-07-26T08:44:47.737917Z",
     "start_time": "2024-07-26T08:44:47.733392Z"
    }
   },
   "cell_type": "code",
   "source": [
    "def quantize_images(images, n_colors=16, model=None, seed=0):\n",
    "    \"\"\"\n",
    "    \n",
    "    :param images: (n, w, h, 3) numpy array \n",
    "    :param n_colors: number of RGB colors to quantize\n",
    "    :param model: k-means model; overrides n_colors if present \n",
    "    :return: OHT images (n, w, h) with value up to n_colors\n",
    "             RGB values of encoding\n",
    "             k-means model in case it needs to predict future \n",
    "    \"\"\"\n",
    "    \n",
    "    n, l, w, d = images.shape\n",
    "    pixels = np.reshape(images, (n*l*w, d))\n",
    "    \n",
    "    if not model: \n",
    "        model = KMeans(n_clusters=n_colors, random_state=seed).fit(pixels)\n",
    "    \n",
    "    rgb_colors = model.cluster_centers_.astype(int)\n",
    "    \n",
    "    quantized_pixels = model.predict(pixels)\n",
    "    quantized_images = np.reshape(quantized_pixels, (n, l, w))\n",
    "    \n",
    "    return quantized_images, rgb_colors, model    "
   ],
   "id": "63ee0f99dc1883e8",
   "outputs": [],
   "execution_count": 245
  },
  {
   "metadata": {},
   "cell_type": "markdown",
   "source": "# Test GPT Augmentation",
   "id": "6696cd2b841bd8cb"
  },
  {
   "metadata": {},
   "cell_type": "code",
   "outputs": [
    {
     "name": "stdout",
     "output_type": "stream",
     "text": [
      "a buff man with a blue headband and red shirt\n",
      "11\n",
      "a blue duck with a red headband\n",
      "8\n",
      "a green woman with blonde hair\n",
      "6\n",
      "a dog with a black hat\n",
      "6\n",
      "a man with blue shoes, a red hat, and a green shirt\n",
      "14\n",
      "Prompt size: 155\n",
      "split time = 0.0015180110931396484\n",
      "Number of loops:  1\n",
      "Loop 0 running through array of size 5\n",
      "api call time = 1.4173822402954102\n"
     ]
    }
   ],
   "execution_count": 126,
   "source": [
    "newunseen_sprite = [\n",
    "    \"a buff man with a blue headband and red shirt\", \n",
    "    \"a blue duck with a red headband\", \n",
    "    \"a green woman with blonde hair\", \n",
    "    \"a dog with a black hat\", \n",
    "    \"a man with blue shoes, a red hat, and a green shirt\"\n",
    "]\n",
    "\n",
    "# # it's probably clk100k_base (can pass to get_encoding()), but let's not assume\n",
    "# encoding = tiktoken.encoding_for_model(model)\n",
    "# prompt_size = _compute_tokens_from_payload(_create_payload([]), encoding)\n",
    "#     \n",
    "# # chunk the prompt to the right size; if we pass in everything, it's gonna timeout/fail\n",
    "# threshold = 4000 - prompt_size \n",
    "# chunks = _chunk_labels(newunseen_sprite, encoding, threshold=threshold)\n",
    "\n",
    "alt_labels = get_gpt_alt_labels(newunseen_sprite, model='gpt-4o-mini', num_retries=3, debug=True)\n"
   ],
   "id": "d64b101255517b28"
  },
  {
   "metadata": {},
   "cell_type": "code",
   "outputs": [
    {
     "data": {
      "text/plain": [
       "[('a buff man with a blue headband and red shirt',\n",
       "  'a strong guy wearing a blue headband and a red top'),\n",
       " ('a blue duck with a red headband',\n",
       "  'a blue duck wearing a red band around its head'),\n",
       " ('a green woman with blonde hair', 'a lady in green with yellow hair'),\n",
       " ('a dog with a black hat', 'a dog wearing a dark hat'),\n",
       " ('a man with blue shoes, a red hat, and a green shirt',\n",
       "  'a man dressed in blue sneakers, a red cap, and a green top')]"
      ]
     },
     "execution_count": 128,
     "metadata": {},
     "output_type": "execute_result"
    }
   ],
   "execution_count": 128,
   "source": "list(zip(newunseen_sprite, alt_labels))",
   "id": "245bd5cbee722c94"
  },
  {
   "metadata": {},
   "cell_type": "code",
   "outputs": [],
   "execution_count": 129,
   "source": "np.save('datasets/hmei_temp_test.npy', data, allow_pickle=True)",
   "id": "d5cdc1f731ad7a8f"
  },
  {
   "metadata": {},
   "cell_type": "markdown",
   "source": "# Run Data Augmentation",
   "id": "46d306163e0aa31c"
  },
  {
   "metadata": {
    "ExecuteTime": {
     "end_time": "2024-07-26T08:48:18.126082Z",
     "start_time": "2024-07-26T08:48:18.116921Z"
    }
   },
   "cell_type": "code",
   "source": [
    "# TODO: read in the raw training data \n",
    "raw_images = np.random.randint(0, 256, (5, 16, 16, 3), dtype=np.uint8)\n",
    "images, rgb_colors, quantizer = quantize_images(raw_images, n_colors=16)\n",
    "\n",
    "labels = [\n",
    "    'a strong guy wearing a blue headband and a red shirt',\n",
    "    'a blue-colored duck wearing a red band',\n",
    "    'a woman in green with yellow hair',\n",
    "    'a dog wearing a black cap',\n",
    "    'a guy in blue shoes, a red cap, and a green top'\n",
    "]"
   ],
   "id": "25cd4639c108367f",
   "outputs": [],
   "execution_count": 247
  },
  {
   "metadata": {
    "ExecuteTime": {
     "end_time": "2024-07-26T08:48:19.404542Z",
     "start_time": "2024-07-26T08:48:19.400056Z"
    }
   },
   "cell_type": "code",
   "source": "images.shape",
   "id": "a210de37fbf4166f",
   "outputs": [
    {
     "data": {
      "text/plain": [
       "(5, 16, 16)"
      ]
     },
     "execution_count": 248,
     "metadata": {},
     "output_type": "execute_result"
    }
   ],
   "execution_count": 248
  },
  {
   "metadata": {
    "ExecuteTime": {
     "end_time": "2024-07-26T08:48:23.653276Z",
     "start_time": "2024-07-26T08:48:21.083810Z"
    }
   },
   "cell_type": "code",
   "source": [
    "# Generate embeddings from ground truth \n",
    "embeddings, _ = get_sent_word_embeddings(labels, MODEL, TOKENIZER)\n",
    "embeddings_noise, idxs_aug_noise = add_noise_to_embeddings(embeddings, num_augmentations=3, noise_std_dev=0.01)"
   ],
   "id": "b5a13ee0b3b31180",
   "outputs": [],
   "execution_count": 249
  },
  {
   "metadata": {
    "ExecuteTime": {
     "end_time": "2024-07-26T09:03:18.535628Z",
     "start_time": "2024-07-26T09:03:18.530276Z"
    }
   },
   "cell_type": "code",
   "source": [
    "# pass in raw_images to mixup along with embeddings \n",
    "images_aug_mixup_raw, embeddings_aug_mixup, idxs_aug_mixup = generate_augmentation_mixup(raw_images, embeddings, n_mixups=1, lmbda=0.5)\n",
    "\n",
    "# requantize mixed up images using original clusters \n",
    "images_aug_mixup, _, _ = quantize_images(raw_images, model=quantizer)\n",
    "\n",
    "# generate new labels; callit MIXUP as the original labels are useless since the embeddings are interpolated \n",
    "labels_aug_mixup = [f'MIXUP idxs {i}' for i in idxs_aug_mixup]"
   ],
   "id": "e5d59505f2bbf3cd",
   "outputs": [],
   "execution_count": 281
  },
  {
   "metadata": {
    "ExecuteTime": {
     "end_time": "2024-07-26T08:52:07.232494Z",
     "start_time": "2024-07-26T08:52:07.229981Z"
    }
   },
   "cell_type": "code",
   "source": [
    "print(idxs_aug_mixup)\n",
    "len(images_aug_mixup)\n",
    "print(labels_aug_mixup)"
   ],
   "id": "3c879e7ec337fb2f",
   "outputs": [
    {
     "name": "stdout",
     "output_type": "stream",
     "text": [
      "[(0, 0), (1, 2), (2, 0), (3, 4), (4, 0)]\n",
      "['MIXUP idxs (0, 0)', 'MIXUP idxs (1, 2)', 'MIXUP idxs (2, 0)', 'MIXUP idxs (3, 4)', 'MIXUP idxs (4, 0)']\n"
     ]
    }
   ],
   "execution_count": 259
  },
  {
   "metadata": {
    "ExecuteTime": {
     "end_time": "2024-07-26T09:00:49.325604Z",
     "start_time": "2024-07-26T09:00:47.924723Z"
    }
   },
   "cell_type": "code",
   "source": [
    "# Generate GPT alt labels \n",
    "labels_gpt = get_gpt_alt_labels(labels, model='gpt-4o-mini', num_retries=3, debug=False)"
   ],
   "id": "a64538bb330c63da",
   "outputs": [
    {
     "name": "stdout",
     "output_type": "stream",
     "text": [
      "a strong guy wearing a blue headband and a red shirt\n",
      "12\n",
      "a blue-colored duck wearing a red band\n",
      "8\n",
      "a woman in green with yellow hair\n",
      "7\n",
      "a dog wearing a black cap\n",
      "6\n",
      "a guy in blue shoes, a red cap, and a green top\n",
      "14\n"
     ]
    }
   ],
   "execution_count": 270
  },
  {
   "metadata": {
    "ExecuteTime": {
     "end_time": "2024-07-26T08:52:19.776829Z",
     "start_time": "2024-07-26T08:52:17.824603Z"
    }
   },
   "cell_type": "code",
   "source": [
    "# Get GPT embeddings and additional noise \n",
    "embeddings_gpt, _ = get_sent_word_embeddings(alt_labels, MODEL, TOKENIZER)\n",
    "embeddings_aug_gpt, idxs_aug_gpt = interpolate_embeddings(embeddings, embeddings_gpt, n_steps=1)"
   ],
   "id": "cb2e826bf6adf831",
   "outputs": [],
   "execution_count": 261
  },
  {
   "metadata": {
    "ExecuteTime": {
     "end_time": "2024-07-26T08:53:38.563752Z",
     "start_time": "2024-07-26T08:53:38.561303Z"
    }
   },
   "cell_type": "code",
   "source": [
    "def _rearrange(lst, idxs):\n",
    "    \"\"\"\n",
    "    shortcut for list comprehension to reorder as python lists don't behave like ndarrays\n",
    "    but the tokenizers require python lists -> easier to rearrange lists than the other way around\n",
    "    :param lst: python 1d list \n",
    "    :param idxs: list of indices to reorder \n",
    "    :return: reordered list \n",
    "    \"\"\"\n",
    "    return [lst[i] for i in idxs]"
   ],
   "id": "691fbcf5be4415",
   "outputs": [],
   "execution_count": 265
  },
  {
   "metadata": {
    "ExecuteTime": {
     "end_time": "2024-07-26T09:02:18.282367Z",
     "start_time": "2024-07-26T09:02:18.273460Z"
    }
   },
   "cell_type": "code",
   "source": [
    "# generate final training data \n",
    "training_images = (images, images[idxs_aug_noise], images_aug_mixup, images, images[idxs_aug_gpt])\n",
    "\n",
    "labels_aug_noise = _rearrange(labels, idxs_aug_noise)\n",
    "labels_aug_gpt = _rearrange(labels, idxs_aug_gpt)\n",
    "\n",
    "training_labels = (labels, labels_aug_noise, labels_aug_mixup, labels_gpt, labels_aug_gpt)\n",
    "training_embeddings = (embeddings, embeddings_noise, embeddings_aug_mixup, embeddings_gpt, embeddings_aug_gpt)\n",
    "training_categories = (\n",
    "    np.full(len(labels), 'original'), \n",
    "    np.full(len(labels_aug_noise), 'noise'), \n",
    "    np.full(len(labels_aug_mixup), 'mixup'),\n",
    "    np.full(len(labels_gpt), 'gpt'),\n",
    "    np.full(len(labels_aug_gpt), 'gpt embedding interpolation'))\n",
    "\n",
    "\n",
    "data_train = {\n",
    "    'images': np.concatenate(training_images, axis=0),\n",
    "    'labels': np.concatenate(training_labels, axis=0),\n",
    "    'embeddings': np.concatenate(training_embeddings, axis=0),\n",
    "    'categories': np.concatenate(training_categories, axis=0)\n",
    "}\n",
    "\n",
    "np.save('datasets/data_train.npy', data_train, allow_pickle=True)"
   ],
   "id": "4be42784d62ce258",
   "outputs": [],
   "execution_count": 272
  },
  {
   "metadata": {
    "ExecuteTime": {
     "end_time": "2024-07-26T09:03:09.700916Z",
     "start_time": "2024-07-26T09:03:09.698419Z"
    }
   },
   "cell_type": "code",
   "source": "data_train['categories'].shape",
   "id": "b9cb0998dc5c00bd",
   "outputs": [
    {
     "data": {
      "text/plain": [
       "(35,)"
      ]
     },
     "execution_count": 280,
     "metadata": {},
     "output_type": "execute_result"
    }
   ],
   "execution_count": 280
  },
  {
   "metadata": {
    "ExecuteTime": {
     "end_time": "2024-07-26T09:02:37.955860Z",
     "start_time": "2024-07-26T09:02:37.953249Z"
    }
   },
   "cell_type": "code",
   "source": "data_train['categories']",
   "id": "c922503f2ecdece",
   "outputs": [
    {
     "data": {
      "text/plain": [
       "array(['original', 'original', 'original', 'original', 'original',\n",
       "       'noise', 'noise', 'noise', 'noise', 'noise', 'noise', 'noise',\n",
       "       'noise', 'noise', 'noise', 'noise', 'noise', 'noise', 'noise',\n",
       "       'noise', 'mixup', 'mixup', 'mixup', 'mixup', 'mixup', 'gpt', 'gpt',\n",
       "       'gpt', 'gpt', 'gpt', 'gpt embedding interpolation',\n",
       "       'gpt embedding interpolation', 'gpt embedding interpolation',\n",
       "       'gpt embedding interpolation', 'gpt embedding interpolation'],\n",
       "      dtype='<U27')"
      ]
     },
     "execution_count": 275,
     "metadata": {},
     "output_type": "execute_result"
    }
   ],
   "execution_count": 275
  }
 ],
 "metadata": {
  "kernelspec": {
   "display_name": "Python 3",
   "language": "python",
   "name": "python3"
  },
  "language_info": {
   "codemirror_mode": {
    "name": "ipython",
    "version": 2
   },
   "file_extension": ".py",
   "mimetype": "text/x-python",
   "name": "python",
   "nbconvert_exporter": "python",
   "pygments_lexer": "ipython2",
   "version": "2.7.6"
  }
 },
 "nbformat": 4,
 "nbformat_minor": 5
}
