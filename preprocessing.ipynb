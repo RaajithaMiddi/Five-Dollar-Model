{
 "cells": [
  {
   "metadata": {},
   "cell_type": "markdown",
   "source": "# Imports",
   "id": "b26629fc2d7ca83c"
  },
  {
   "metadata": {
    "ExecuteTime": {
     "end_time": "2024-07-27T22:34:33.174981Z",
     "start_time": "2024-07-27T22:34:33.160527Z"
    }
   },
   "cell_type": "code",
   "source": [
    "%load_ext autoreload\n",
    "%autoreload 2"
   ],
   "id": "f74807a5f5b70055",
   "outputs": [],
   "execution_count": 1
  },
  {
   "metadata": {
    "ExecuteTime": {
     "end_time": "2024-07-27T22:34:35.689381Z",
     "start_time": "2024-07-27T22:34:33.201410Z"
    }
   },
   "cell_type": "code",
   "source": [
    "import os \n",
    "from utils import augmentation, llm, gpt, images\n",
    "\n",
    "import matplotlib.pyplot as plt\n",
    "import numpy as np\n",
    "from openai import OpenAI\n",
    "import torch\n",
    "import torch.nn as nn\n",
    "from transformers import AutoTokenizer, AutoModel, CLIPModel, CLIPProcessor"
   ],
   "id": "initial_id",
   "outputs": [],
   "execution_count": 2
  },
  {
   "metadata": {},
   "cell_type": "markdown",
   "source": "# Load Data",
   "id": "5cff96745747594a"
  },
  {
   "metadata": {
    "ExecuteTime": {
     "end_time": "2024-07-27T22:34:35.713212Z",
     "start_time": "2024-07-27T22:34:35.690500Z"
    }
   },
   "cell_type": "code",
   "source": [
    "IMAGES = np.load('datasets/pixelarts_images.npy', allow_pickle=True)\n",
    "LABELS = np.load('datasets/pixelarts_labels.npy', allow_pickle=True).tolist()"
   ],
   "id": "83fd8dbdab0162b",
   "outputs": [],
   "execution_count": 3
  },
  {
   "metadata": {
    "ExecuteTime": {
     "end_time": "2024-07-27T22:34:35.734670Z",
     "start_time": "2024-07-27T22:34:35.713874Z"
    }
   },
   "cell_type": "code",
   "source": [
    "print(IMAGES.shape)\n",
    "print(len(LABELS))"
   ],
   "id": "7996466f7eab93fa",
   "outputs": [
    {
     "name": "stdout",
     "output_type": "stream",
     "text": [
      "(300, 16, 16, 3)\n",
      "300\n"
     ]
    }
   ],
   "execution_count": 4
  },
  {
   "metadata": {
    "ExecuteTime": {
     "end_time": "2024-07-27T22:34:35.759533Z",
     "start_time": "2024-07-27T22:34:35.736036Z"
    }
   },
   "cell_type": "code",
   "source": "LABELS[228]",
   "id": "f730b634079a18cb",
   "outputs": [
    {
     "data": {
      "text/plain": [
       "'a red tomato with a green stem'"
      ]
     },
     "execution_count": 5,
     "metadata": {},
     "output_type": "execute_result"
    }
   ],
   "execution_count": 5
  },
  {
   "metadata": {
    "ExecuteTime": {
     "end_time": "2024-07-27T22:34:35.847336Z",
     "start_time": "2024-07-27T22:34:35.760384Z"
    }
   },
   "cell_type": "code",
   "source": "plt.imshow(IMAGES[228])",
   "id": "940f7b598888dea7",
   "outputs": [
    {
     "data": {
      "text/plain": [
       "<matplotlib.image.AxesImage at 0x32a5e1160>"
      ]
     },
     "execution_count": 6,
     "metadata": {},
     "output_type": "execute_result"
    },
    {
     "data": {
      "text/plain": [
       "<Figure size 640x480 with 1 Axes>"
      ],
      "image/png": "[encoded data removed]"
     },
     "metadata": {},
     "output_type": "display_data"
    }
   ],
   "execution_count": 6
  },
  {
   "metadata": {},
   "cell_type": "markdown",
   "source": "# Load Pretrained Models",
   "id": "b85387ba0a544622"
  },
  {
   "metadata": {
    "ExecuteTime": {
     "end_time": "2024-07-27T22:34:39.060692Z",
     "start_time": "2024-07-27T22:34:35.848234Z"
    }
   },
   "cell_type": "code",
   "source": [
    "# sentence embedding model\n",
    "# https://huggingface.co/sentence-transformers/multi-qa-MiniLM-L6-cos-v1\n",
    "\n",
    "os.environ[\"TOKENIZERS_PARALLELISM\"] = \"false\"\n",
    "\n",
    "# limit of 512 word pieces, trained on length of 250 word pieces and might not work for longer texts\n",
    "\n",
    "tokenizer_uri_name = \"sentence-transformers/multi-qa-MiniLM-L6-cos-v1\"\n",
    "clip_uri_name = \"openai/clip-vit-base-patch32\"\n",
    "\n",
    "LLM_TOKENIZER = AutoTokenizer.from_pretrained(tokenizer_uri_name)\n",
    "LLM_MODEL = AutoModel.from_pretrained(tokenizer_uri_name)\n",
    "\n",
    "CLIP_PROCESSOR = CLIPProcessor.from_pretrained(clip_uri_name)\n",
    "CLIP_MODEL = CLIPModel.from_pretrained(clip_uri_name)"
   ],
   "id": "7cc3146ffeee98c2",
   "outputs": [
    {
     "name": "stderr",
     "output_type": "stream",
     "text": [
      "/Users/henrymei/anaconda3/envs/five-dollar-model/lib/python3.9/site-packages/huggingface_hub/file_download.py:1132: FutureWarning: `resume_download` is deprecated and will be removed in version 1.0.0. Downloads always resume when possible. If you want to force a new download, use `force_download=True`.\n",
      "  warnings.warn(\n",
      "/Users/henrymei/anaconda3/envs/five-dollar-model/lib/python3.9/site-packages/huggingface_hub/file_download.py:1132: FutureWarning: `resume_download` is deprecated and will be removed in version 1.0.0. Downloads always resume when possible. If you want to force a new download, use `force_download=True`.\n",
      "  warnings.warn(\n"
     ]
    }
   ],
   "execution_count": 7
  },
  {
   "metadata": {},
   "cell_type": "markdown",
   "source": "# Setup GPT",
   "id": "ccb8a08973972ee3"
  },
  {
   "metadata": {
    "ExecuteTime": {
     "end_time": "2024-07-27T22:34:39.098970Z",
     "start_time": "2024-07-27T22:34:39.061453Z"
    }
   },
   "cell_type": "code",
   "source": [
    "with open('apikey.env', 'r') as file:\n",
    "    # Read the content of the file\n",
    "    api_key = file.read().strip() "
   ],
   "id": "19c2887b3c2556c0",
   "outputs": [],
   "execution_count": 8
  },
  {
   "metadata": {
    "ExecuteTime": {
     "end_time": "2024-07-27T22:34:39.139285Z",
     "start_time": "2024-07-27T22:34:39.099927Z"
    }
   },
   "cell_type": "code",
   "source": "client = OpenAI(api_key=api_key)",
   "id": "60ff3a1bb4a858e9",
   "outputs": [],
   "execution_count": 9
  },
  {
   "metadata": {
    "ExecuteTime": {
     "end_time": "2024-07-27T22:34:39.177424Z",
     "start_time": "2024-07-27T22:34:39.140511Z"
    }
   },
   "cell_type": "code",
   "source": [
    "GPT_PROMPT = \"\"\"\n",
    "    Each string in the list provided is a description of a pixel art image. For each string, write a corresponding alternate description that uses different words, sentence structure, and length. Use common words when writing the alternate labels and do not simply correct spelling and punctuation or use a different regional spelling (e.g., gray versus grey). Each alternate description should be different from the original string in a significant way. Your output list should have the same number of strings as the input list. \"\"\"\n",
    "\n",
    "GPT_ROLE = \"\"\"\n",
    "    You are a helpful assistant with excellent attention to detail. You only output python lists of strings according \n",
    "    to the instructions you are given. Output the list on a single line, without any newlines. Make sure every list is \n",
    "    closed properly.\"\n",
    "    \"\"\"\n",
    "\n",
    "GPT_TOKEN_THRESHOLD = 4000"
   ],
   "id": "dd2c6783f39a1000",
   "outputs": [],
   "execution_count": 10
  },
  {
   "metadata": {},
   "cell_type": "markdown",
   "source": "# Augment data",
   "id": "6696cd2b841bd8cb"
  },
  {
   "metadata": {
    "ExecuteTime": {
     "end_time": "2024-07-27T22:34:39.414901Z",
     "start_time": "2024-07-27T22:34:39.180575Z"
    }
   },
   "cell_type": "code",
   "source": "images_oht, rgb_colors, quantizer = images.quantize_images(IMAGES, n_colors=16)",
   "id": "25cd4639c108367f",
   "outputs": [],
   "execution_count": 11
  },
  {
   "metadata": {
    "ExecuteTime": {
     "end_time": "2024-07-27T22:34:39.483548Z",
     "start_time": "2024-07-27T22:34:39.417145Z"
    }
   },
   "cell_type": "code",
   "source": "images_oht.shape",
   "id": "a210de37fbf4166f",
   "outputs": [
    {
     "data": {
      "text/plain": [
       "(300, 16, 16)"
      ]
     },
     "execution_count": 12,
     "metadata": {},
     "output_type": "execute_result"
    }
   ],
   "execution_count": 12
  },
  {
   "metadata": {
    "ExecuteTime": {
     "end_time": "2024-07-27T22:36:00.740098Z",
     "start_time": "2024-07-27T22:34:39.486509Z"
    }
   },
   "cell_type": "code",
   "source": [
    "# Generate embeddings from ground truth \n",
    "embeddings, _ = llm.get_sent_word_embeddings(LABELS, LLM_MODEL, LLM_TOKENIZER)"
   ],
   "id": "b5a13ee0b3b31180",
   "outputs": [],
   "execution_count": 13
  },
  {
   "metadata": {
    "ExecuteTime": {
     "end_time": "2024-07-27T22:36:00.822801Z",
     "start_time": "2024-07-27T22:36:00.742679Z"
    }
   },
   "cell_type": "code",
   "source": [
    "# Do embedding augmentation by multiplying Gaussian noise in \n",
    "embeddings_noise, idxs_aug_noise = llm.add_noise_to_embeddings(embeddings, num_augmentations=3, noise_std_dev=0.01)"
   ],
   "id": "8e64f80170590604",
   "outputs": [],
   "execution_count": 14
  },
  {
   "metadata": {
    "ExecuteTime": {
     "end_time": "2024-07-27T22:36:00.872801Z",
     "start_time": "2024-07-27T22:36:00.824278Z"
    }
   },
   "cell_type": "code",
   "source": [
    "# pass in raw_images to mixup along with embeddings \n",
    "images_aug_mixup_raw, embeddings_aug_mixup, idxs_aug_mixup = augmentation.generate_mixup(IMAGES, embeddings, n_mixups=1, lmbda=0.5)\n",
    "\n",
    "# requantize mixed up images using original clusters \n",
    "images_aug_mixup, _, _ = images.quantize_images(images_aug_mixup_raw, model=quantizer)\n",
    "\n",
    "# generate new labels; callit MIXUP as the original labels are useless since the embeddings are interpolated \n",
    "labels_aug_mixup = [f'MIXUP idxs {i}' for i in idxs_aug_mixup]"
   ],
   "id": "e5d59505f2bbf3cd",
   "outputs": [],
   "execution_count": 15
  },
  {
   "metadata": {
    "ExecuteTime": {
     "end_time": "2024-07-27T22:36:52.325894Z",
     "start_time": "2024-07-27T22:36:00.874195Z"
    }
   },
   "cell_type": "code",
   "source": [
    "# Generate GPT alt labels \n",
    "labels_gpt = gpt.get_gpt_alt_labels(LABELS, client, GPT_PROMPT, GPT_ROLE, model='gpt-4o', num_retries=3, debug=True)\n",
    "list(zip(LABELS, labels_gpt))"
   ],
   "id": "a64538bb330c63da",
   "outputs": [
    {
     "name": "stdout",
     "output_type": "stream",
     "text": [
      "Prompt size: 172\n",
      "split time = 0.4750218391418457\n",
      "Number of loops:  1\n",
      "Loop 0 running through array of size 300\n",
      "api call time = 50.92143988609314\n"
     ]
    },
    {
     "data": {
      "text/plain": [
       "[('a creature with brown shirt, blue and white pants, dense teal blue hair',\n",
       "  'a being with a brown top, striped pants in blue and white, thick teal hair'),\n",
       " ('a brown character with large blonde hair, a pink shirt and black pants',\n",
       "  'a brown figure with huge blond hair, a pink top, and dark pants'),\n",
       " ('A brown character with red shirt, blue pants and white hair with faux bald haircut',\n",
       "  'A brown figure with a red top, blue trousers, and white hair styled with bald spots'),\n",
       " ('Brown character with black shirt, white pants and golden hair with spikes on right side',\n",
       "  'Brown figure with a black top, white bottoms, and spiky golden hair on the right'),\n",
       " ('character with long purple hair and gray hat wearing brown shirt and black pants',\n",
       "  'figure with extended purple hair and grey cap wearing a brown top and dark trousers'),\n",
       " ('white character with purple hair and green hands wearing purple shirt, orange pants',\n",
       "  'pale figure with purple hair and green hands dressed in a purple top, orange bottoms'),\n",
       " ('Brown character with one eye blinded and covered in green wearing green shirt and black pants',\n",
       "  'Brown figure with one eye bandaged in green, wearing a green top and dark pants'),\n",
       " ('character with long purple hair and gray hat wearing brown shirt, black pants and an yellow belt',\n",
       "  'figure with extensive purple hair and grey cap, donned in a brown top, dark trousers, and yellow belt'),\n",
       " ('monster covered in black shirt and green pants',\n",
       "  'creature clad in a black top and green trousers'),\n",
       " ('white character with green coat and pants, brown shirt, blonde hair and blue ears',\n",
       "  'pale figure in green coat and pants, brown top, blonde hair, and blue ears'),\n",
       " ('A brown character with white hair, spikes on the right side wearing a gray shirt and black pants',\n",
       "  'A brown figure with white hair, right-side spikes, wearing a grey top and dark trousers'),\n",
       " ('character with large black eyes, golden hair with Mohawk haircut wearing purple shirt and blue pants',\n",
       "  'figure with big black eyes, golden Mohawk, in purple top and blue bottoms'),\n",
       " ('white character with black shirt, white pants and a gray officer cap',\n",
       "  'pale figure in black top, white trousers, and grey officers hat'),\n",
       " ('character with gray shirt, yellow pants and long purple hair',\n",
       "  'figure in grey top, yellow trousers, long purple hair'),\n",
       " ('character with maroon shirt, black pants and an officer cap',\n",
       "  'figure in maroon top, dark pants, and officers cap'),\n",
       " ('white character with gray shit, blue pants and black hair with comb-over style',\n",
       "  'pale figure in grey top, blue trousers, and black comb-over hairstyle'),\n",
       " ('creature with gray shirt and white pants wearing a horn cap',\n",
       "  'being with grey top and white bottoms, topped with a horn cap'),\n",
       " ('creature with red outfit, gray cape and a red horn hat',\n",
       "  'being in red attire, grey cloak, and red horned hat'),\n",
       " ('character with black shirt, white pants and purple hair with left side hair spikes',\n",
       "  'figure in black top, white bottoms, purple hair spiked on the left'),\n",
       " ('creature with blue outfit, green cape and blue horn hat',\n",
       "  'being in blue attire, green cloak, and blue horned hat'),\n",
       " ('character with huge black eyes and gray hair wearing a blue shirt and green pants',\n",
       "  'figure with large black eyes and grey hair, in blue top and green trousers'),\n",
       " ('creature with a red outfit, gray cape and a red horn hat',\n",
       "  'being in a red ensemble, grey cape, and a red horned hat'),\n",
       " ('character with black hair wearing a red outfit with white strips on shirt',\n",
       "  'figure with black hair, clad in red outfit with white stripes on the top'),\n",
       " ('brown character with gray and blue shirt, purple pants and white hair',\n",
       "  'brown figure in grey-blue top, purple bottoms, white hair'),\n",
       " ('A green monster with huge black eyes, yellow ears and wearing gray shorts',\n",
       "  'A green beast with big black eyes, yellow ears, and grey shorts'),\n",
       " ('A brown character with huge black eyes, white hair wearing a gray and blue shirt, purple pants',\n",
       "  'A brown figure with big black eyes, white hair, in grey-blue top, purple bottoms'),\n",
       " ('A gray cat like character with black eyes and nose wearing gray pants',\n",
       "  'A grey feline-like figure with black eyes, black nose, dressed in grey slacks'),\n",
       " ('A brown character with gray outfit, yellow belt and red hair',\n",
       "  'A brown figure in grey outfit, yellow belt, red hair'),\n",
       " ('A character with right eye blinded, covering with a gray cloth and wearing gray outfit and has red hair',\n",
       "  'figure with a blind right eye covered in grey cloth, dressed in grey, and red hair'),\n",
       " ('a brown character with gray shirt, white pants and white hair with long spikes on the left side',\n",
       "  'a brown figure with grey top, white trousers, white hair with long left-side spikes'),\n",
       " ('A white girl with green hair wearing a gray shirt with pink sleeves and a white pant',\n",
       "  'A pale girl with green hair in a grey top with pink sleeves and white trousers'),\n",
       " ('a brown character with huge black eyes, black hair, wearing a white shirt with red shoulders, red pants',\n",
       "  'a brown figure with big black eyes, black hair, in white shirt with red shoulders and red pants'),\n",
       " ('A brown character with purple shirt, pink pants and hair',\n",
       "  'A brown figure with purple top, pink bottoms, and matching hair'),\n",
       " ('a white character with green hair wearing a dark blue shirt, sky blue pants, brown belt strap with yellow frame',\n",
       "  'a pale figure with green hair, in navy top, sky-blue trousers, brown belt with yellow buckle'),\n",
       " ('A character with pink outfit and hair, red shoulders and black belt with red frame',\n",
       "  'A character in pink ensemble and hair, red shoulders and black belt with red buckle'),\n",
       " ('A black monster with blue shirt, red pants, yellow neckpiece and a dog like face',\n",
       "  'A black monster in blue top, red bottoms, yellow neckpiece, dog-like face'),\n",
       " ('A brown character with green hair wearing white pants and gray shirt with white sleeves',\n",
       "  'A brown figure with green hair, dressed in white trousers, grey top with white sleeves'),\n",
       " ('a character with purple hair wearing a gray hat, brown shirt, black pants and a brown belt with yellow frame',\n",
       "  'a figure with purple hair, grey hat, brown top, dark trousers, brown belt with yellow buckle'),\n",
       " ('A character with gray shirt, black pants, brown belt with yellow frame and an officer cap',\n",
       "  'A figure in grey top, dark trousers, brown belt with yellow buckle, and officers cap'),\n",
       " ('a brown character with golden hair, mohawk hairstyle wearing a blue shirt and white pants',\n",
       "  'a brown figure with golden Mohawk, in blue top, white trousers'),\n",
       " ('A character with blue shirt, blue hair, green pants and a brown beard',\n",
       "  'A figure with blue top, blue hair, green pants, and brown beard'),\n",
       " ('A green monster with huge ears, large black eyes wearing gray shorts',\n",
       "  'A green beast with big ears, large black eyes, sporting grey shorts'),\n",
       " ('A monster with face like dog, large green head wearing a green shirt, green belt and orange pants',\n",
       "  'A beast with dog-like face, large green head, in green top, green belt, and orange trousers'),\n",
       " ('A purple monster with brown belt with yellow frame, large ears and dense purple hair ',\n",
       "  'A purple monster with brown belt with yellow buckle, large ears, dense purple hair'),\n",
       " ('character with gray and black outfit, yellow neck piece and light green horn hat',\n",
       "  'figure in grey-black outfit, yellow neckpiece, light green horned hat'),\n",
       " ('character with off-white sleeveless shirt, white pants and yellow hair with spikes on left side',\n",
       "  'figure in off-white sleeveless top, white trousers, yellow hair with left-side spikes'),\n",
       " ('A brown character with white hair wearing gray shirt with blue sleeves and purple pants',\n",
       "  'A brown figure with white hair, in grey top with blue sleeves and purple trousers'),\n",
       " ('A character with long brownish yellow hair, wearing white pants and gray shirt with pink sleeves',\n",
       "  'A figure with long brownish-yellow hair, in white pants, grey top with pink sleeves'),\n",
       " ('character with red shirt, black pants, golden hair covering right eye and spikes on left side',\n",
       "  'figure in red top, dark trousers, golden hair covering right eye and left-side spikes'),\n",
       " ('creature with dog face, long green hair wearing green shirt and belt, orange pants',\n",
       "  'being with dog face, long green hair, in green top and belt, orange pants'),\n",
       " ('character with long brown hair wearing black pants, pink shirt with white sleeves',\n",
       "  'figure with long brown hair, in dark trousers, pink top with white sleeves'),\n",
       " ('character with blue hair, a light blue shirt, green pants, and black shoes',\n",
       "  'figure with blue hair, light blue top, green trousers, black shoes'),\n",
       " ('character with green hair covering right eye, a black shirt, white pants',\n",
       "  'figure with green hair covering right eye, in black top, white trousers'),\n",
       " ('character with long green hair wearing a blue shirt with purple left sleeve, blue and yellow pants',\n",
       "  'figure with long green hair, blue top with purple left sleeve, blue-yellow trousers'),\n",
       " ('character with dense black hair, black shirt with yellow sleeves, brown belt with yellow frame and yellow shoes',\n",
       "  'figure with thick black hair, in black top with yellow sleeves, brown belt with yellow buckle, yellow shoes'),\n",
       " ('A black monster with purple afro hair, yellow ears and purple shorts',\n",
       "  'A black monster with purple afro, yellow ears, purple shorts'),\n",
       " ('character with green shirt and blue pants, blue ears and brown hair',\n",
       "  'figure in green top and blue trousers, blue ears, brown hair'),\n",
       " ('character with blue outfit and hair, green shoulder details, green belt',\n",
       "  'figure in blue attire and hair, green shoulder accents, green belt'),\n",
       " ('brown character with brown cap, green shirt and blue pants',\n",
       "  'brown figure with brown cap, green top, blue pants'),\n",
       " ('a brown character with gray pants and shaved hairstyle with pink hair',\n",
       "  'a brown figure in grey bottoms, shaved hairstyle with pink hair'),\n",
       " ('an alien look like with only right one holding a green axe',\n",
       "  'an alien-looking being holding a green axe'),\n",
       " ('a white character with gray outfit and gray cap',\n",
       "  'a pale figure in grey outfit and cap'),\n",
       " ('red head creature with gray outfit, yellow shoes holding a sword',\n",
       "  'red-haired being in grey outfit, yellow shoes, holding a sword'),\n",
       " ('character with red shirt, gray pants and cap holding a cap',\n",
       "  'figure in red top, grey trousers and cap, holding a cap'),\n",
       " ('a black creature with blue shirt, red pants holding a sword with red handle',\n",
       "  'a black being in blue top, red trousers, holding a sword with red handle'),\n",
       " ('character with black outfit, purple hair holding an axe',\n",
       "  'figure in black outfit, purple hair, holding an axe'),\n",
       " ('a brown character with blue shirt, pink pants and light pink hair',\n",
       "  'a brown figure in blue top, pink trousers, light pink hair'),\n",
       " ('a character with green shirt, blue pants, long gray hair and brown cap',\n",
       "  'a figure in green top, blue trousers, long grey hair, brown cap'),\n",
       " ('A white character with white outfit, golden hair covering right eye',\n",
       "  'A pale figure in white outfit, golden hair covering right eye'),\n",
       " ('a creature with purple outfit and hair, red belt with yellow frame holding an yellow sword',\n",
       "  'a being in purple ensemble and hair, red belt with yellow buckle, holding a yellow sword'),\n",
       " ('a brown character with teal green hair, black shirt and white pants',\n",
       "  'a brown figure with teal-green hair, black top, white trousers'),\n",
       " ('a character with long green hair, black shirt, white pants standing sideways',\n",
       "  'a figure with long green hair, black top, white trousers, facing sideways'),\n",
       " ('a blue creature with blue outfit and hair, red cap, green neckpiece and belt',\n",
       "  'a blue being in blue outfit and hair, red cap, green neckpiece, belt'),\n",
       " ('a white character with black shirt, blue pants, black hair, standing sideways',\n",
       "  'a pale figure in black top, blue trousers, black hair, facing sideways'),\n",
       " ('a creature with gray outfit, green shoes, blue hair, holding yellow sword standing sideways',\n",
       "  'a being in grey outfit, green shoes, blue hair, holding yellow sword, facing sideways'),\n",
       " ('a character standing sideways with green hair, blue outfit holding sword',\n",
       "  'a figure facing sideways with green hair, blue outfit, holding sword'),\n",
       " ('a character with white outfit and red hat',\n",
       "  'a figure in white attire with red hat'),\n",
       " ('a brown character with purple shaved hair and black pants',\n",
       "  'a brown figure with purple shaved hair, dark trousers'),\n",
       " ('a gray creature standing sideways with horn hat',\n",
       "  'a grey being facing sideways with horned hat'),\n",
       " ('a brown character with white shirt, black pants, green hair',\n",
       "  'a brown figure in white top, dark trousers, green hair'),\n",
       " ('a character with light yellow outfit, yellow shoes, blue hair holding a green object',\n",
       "  'a figure in light yellow attire, yellow shoes, blue hair, holding a green object'),\n",
       " ('a character with bald head, brown shirt, blue pants, green shoes holding blue sword',\n",
       "  'a figure with bald head, brown top, blue trousers, green shoes, holding blue sword'),\n",
       " ('a brown character with purple shirt, yellow pants, dense black hair standing sideways',\n",
       "  'a brown figure in purple top, yellow trousers, thick black hair, facing sideways'),\n",
       " ('A green creature holding a knife with orange handle',\n",
       "  'A green being holding a knife with orange handle'),\n",
       " ('a white character with dense black hair, yellow shirt, white pants standing sideways',\n",
       "  'a pale figure with thick black hair, yellow top, white trousers, facing sideways'),\n",
       " ('a character with blue hair, blue shirt and green pants standing sideways',\n",
       "  'a figure with blue hair, blue top and green trousers, facing sideways'),\n",
       " ('a gray creature standing sideways holding an yellow sword with brown handle',\n",
       "  'a grey being facing sideways, holding yellow sword with brown handle'),\n",
       " ('a brown character with black hair, black shirt and blue pants',\n",
       "  'a brown figure with black hair, dark top, blue trousers'),\n",
       " ('a brown character with golden spike hair, purple shirt, blue pants, standing sideways holding broomstick',\n",
       "  'a brown figure with golden spiked hair, purple top, blue trousers, facing sideways, holding broomstick'),\n",
       " ('character with pink shirt and long pink hair, gray hat, black pants holding a pink axe',\n",
       "  'figure in pink top, long pink hair, grey hat, dark trousers, holding a pink axe'),\n",
       " ('a brown character with white short, black pants and hat, brown belt with yellow frame holding sword',\n",
       "  'a brown figure in white top, dark trousers, hat, brown belt with yellow buckle, holding sword'),\n",
       " ('character with pink shirt and long hair, black pants, gray cap holding a sword, standing sideways',\n",
       "  'figure in pink top, long hair, dark trousers, grey cap, holding sword, facing sideways'),\n",
       " ('character with blue hair, brown outfit, green shoes, standing sideways and holding an yellow sword',\n",
       "  'figure with blue hair, brown attire, green shoes, facing sideways, holding yellow sword'),\n",
       " ('a brown character with purple shirt, pink pants and hair, standing sideways',\n",
       "  'a brown figure in purple top, pink trousers, hair, facing sideways'),\n",
       " ('a character with light pink long hair and shirt, black pants, black cap, holding a sword standing sideways',\n",
       "  'a figure with light pink long hair, top, dark trousers, dark cap, holding a sword, facing sideways'),\n",
       " ('a black character with pink shirt, black pants and light peach color long hair standing sideways',\n",
       "  'a black figure in pink top, dark trousers, light peach long hair, facing sideways'),\n",
       " ('character with gray outfit, light yellow shoes, red horn helmet holding a sword, standing sideways',\n",
       "  'figure in grey outfit, light yellow shoes, red horn helmet, holding a sword, facing sideways'),\n",
       " ('character with gray shirt, white pants and green hair, standing sideways',\n",
       "  'figure in grey top, white trousers, green hair, facing sideways'),\n",
       " ('character with gray shirt, white pants, green hair, standing sideways',\n",
       "  'figure in grey top, white trousers, green hair, facing sideways'),\n",
       " ('character with black outfit, purple hair, holding an axe and standing sideways',\n",
       "  'figure in dark outfit, purple hair, holding an axe, facing sideways'),\n",
       " ('brown character with gray shirt, white pants, green hair, standing sideways',\n",
       "  'brown figure in grey top, white trousers, green hair, facing sideways'),\n",
       " ('a green creature with yellow ears, holding a brown axe standing sideways',\n",
       "  'a green being with yellow ears, holding a brown axe, facing sideways'),\n",
       " ('character with black shirt, gray pants and a gray hat standing sideways',\n",
       "  'figure in black top, grey trousers, grey hat, facing sideways'),\n",
       " ('character with green hair, wearing a blue and purple outfit, green shoes, holding a golden sword',\n",
       "  'figure with green hair, in blue-purple outfit, green shoes, holding golden sword'),\n",
       " ('character with marron hair, wearing black outfit, belt with yellow frame, holding a white sword with red holder',\n",
       "  'figure with maroon hair, in dark attire, belt with yellow buckle, holding white sword with red scabbard'),\n",
       " ('character with dense pink hair wearing gray shirt and yellow pants, standing sideways',\n",
       "  'figure with thick pink hair, in grey top, yellow trousers, facing sideways'),\n",
       " ('character with blue hair, wearing light yellow outfit, holding a green object, standing sideways',\n",
       "  'figure with blue hair, in light yellow attire, holding a green object, facing sideways'),\n",
       " ('character with purple hair, black outfit, holding an axe with brown holder',\n",
       "  'figure with purple hair, dark attire, holding axe with brown handle'),\n",
       " ('brown character with gray shirt and cap, black pants, brown belt with yellow frame, holding a sword, standing sideways',\n",
       "  'brown figure in grey top and cap, dark trousers, brown belt with yellow buckle, holding sword, facing sideways'),\n",
       " ('pink creature standing sideways with shaved style of red hair, red neck piece and a black belt with red frame',\n",
       "  'pink being facing sideways with shaved red hair, red neckpiece, black belt with red buckle'),\n",
       " ('character with brown hair, gray and black outfit and cap holding a sword, standing sideways',\n",
       "  'figure with brown hair, in grey-black outfit and cap, holding sword, facing sideways'),\n",
       " ('creature with green hair and shirt, orange pants, standing sideways',\n",
       "  'being with green hair, green top, orange trousers, facing sideways'),\n",
       " ('brown character with white hair, red shirt and blue pants standing sideways',\n",
       "  'brown figure with white hair, red top, blue trousers, facing sideways'),\n",
       " ('brown character with long gray hair, brown cap, green shirt, blue pants, holding an yellow and green object, standing sideways',\n",
       "  'brown figure with long grey hair, brown cap, green top, blue trousers, holding yellow-green object, facing sideways'),\n",
       " ('character with long green hair, green outfit with yellow sleeves, standing sideways and holding a blue sword with green hodler',\n",
       "  'figure with long green hair, green outfit with yellow sleeves, facing sideways, holding blue sword with green holder'),\n",
       " ('a brown character with a pointy helmet, yellow shoulder pads, black attire, brown belt, and yellow shoes, holding a gold sword',\n",
       "  'a brown figure with pointy helmet, yellow shoulder pads, black attire, brown belt, yellow shoes, holding golden sword'),\n",
       " ('a white character with blonde hair, blue shirt, brown belt, light blue pants, holding a blue bow',\n",
       "  'a pale figure with blonde hair, blue top, brown belt, light blue trousers, holding blue bow'),\n",
       " ('a brown character with large brown hair, yellow eyepatch, green shirt, black shoes, holding a red sword',\n",
       "  'a brown figure with big brown hair, yellow eyepatch, green top, black shoes, holding red sword'),\n",
       " ('a white character with long orange hair, beige outfit, and blue earrings, holding a beige sword',\n",
       "  'a pale figure with long orange hair, beige attire, blue earrings, holding beige sword'),\n",
       " ('a brown character with dense green hair, black shirt and white pants, standing sideways',\n",
       "  'a brown figure with thick green hair, dark top, white trousers, facing sideways'),\n",
       " ('a circular, light green creature with one black eye and one purple eye',\n",
       "  'a round light green being with a black eye and a purple eye'),\n",
       " ('a circular, black creature with a red glow, red eyes and grey shadow below',\n",
       "  'a circular black being with red glow, red eyes, grey shadow below'),\n",
       " ('a light green animal with purple eyes and beige shirt',\n",
       "  'a light green animal with purple eyes, beige top'),\n",
       " ('a red animal with red eyes, beige mouth, orange shirt',\n",
       "  'a red animal with red eyes, beige mouth, orange top'),\n",
       " ('a dark red, fox like animal', 'a dark red fox-like animal'),\n",
       " ('a red, circular animal with a yellow antenna, blue eyes',\n",
       "  'a red circular animal with yellow antenna, blue eyes'),\n",
       " ('a turtle like animal with a greens shell',\n",
       "  'a turtle-like animal with green shell'),\n",
       " ('a green frog like animal', 'a green frog-like animal'),\n",
       " ('a light blue, bird like creature with wings',\n",
       "  'a light blue bird-like being with wings'),\n",
       " ('a dark green, circular creature with a green leaf and two pink flowers',\n",
       "  'a dark green circular being with green leaf and two pink blooms'),\n",
       " ('a large, light blue animal with big ears ',\n",
       "  'a large light blue animal with big ears'),\n",
       " ('a red circular creature with white eyes and brown feet',\n",
       "  'a red round being with white eyes and brown feet'),\n",
       " ('A red animal resembling a dog, with black ears and an yellow nose or collar',\n",
       "  'A red dog-like animal with black ears, yellow nose or collar'),\n",
       " ('a pink, lion like animal with dark red mane, pink face and black tail',\n",
       "  'a pink lion-like animal with dark red mane, pink face, black tail'),\n",
       " ('a blue creature with large, square eyes, right eye being brown and left is red.',\n",
       "  'a blue being with large square eyes, brown right eye, red left eye'),\n",
       " ('a small green creature with large eyes and small arms',\n",
       "  'a small green being with big eyes, small arms'),\n",
       " ('a red, circular creature with orange ears and a large beige mouth',\n",
       "  'a red round being with orange ears, big beige mouth'),\n",
       " ('a small, circular creature with small legs and no arms',\n",
       "  'a small circular being with small legs, no arms'),\n",
       " ('a large, light blue circular creature with ears and pink eyes',\n",
       "  'a large light blue round being with ears, pink eyes'),\n",
       " ('a green apple with black eyes and leaf',\n",
       "  'a green apple with black eyes, leaf'),\n",
       " ('a small, red creature with wide eyes and legs',\n",
       "  'a small red being with wide eyes, legs'),\n",
       " ('a large, light blue animal, with big blue ears and long arms',\n",
       "  'a large light blue animal with big blue ears, long arms'),\n",
       " ('a light blue, bird like animal with blue wings',\n",
       "  'a light blue bird-like animal with blue wings'),\n",
       " ('a light blue, circular creature with large light blue ears',\n",
       "  'a light blue round being with large light blue ears'),\n",
       " ('a blue, tear drop shaped creature with a grey shadow',\n",
       "  'a blue tear-shaped being with grey shadow'),\n",
       " ('a red, circular creature with one green eye and white smile',\n",
       "  'a red round being with one green eye and white smile'),\n",
       " ('a small, circular, light green creature with one purple eye and one black eye',\n",
       "  'a small round light green being with a purple eye and a black eye'),\n",
       " ('a green, frog like animal with a large head, large orange eyes and a dark green body',\n",
       "  'a green frog-like animal with big head, big orange eyes, dark green body'),\n",
       " ('a beige circular creature with a cactus antenna',\n",
       "  'a beige round being with a cactus antenna'),\n",
       " ('a red circular creature with orange ears and arms',\n",
       "  'a red round being with orange ears, arms'),\n",
       " ('a small, black creature with yellow eyes, long ears and thin body',\n",
       "  'a small black being with yellow eyes, long ears, thin body'),\n",
       " ('a small, mouse like, blue animal with large blue ears',\n",
       "  'a small blue mouse-like animal with big blue ears'),\n",
       " ('a small green creature with short arms',\n",
       "  'a small green being with short arms'),\n",
       " ('a red circular animal with yellow center and red ears',\n",
       "  'a red round animal with yellow center, red ears'),\n",
       " ('a small green creature with small legs and no arms',\n",
       "  'a small green being with short legs, no arms'),\n",
       " ('a small red creature with small red ears and arms',\n",
       "  'a small red being with small red ears, arms'),\n",
       " ('a small red creature with small red ears, beige face, three black eyes, beige feet',\n",
       "  'a small red being with small red ears, beige face, three black eyes, beige feet'),\n",
       " ('a light green, bunny like creature with big ears, white smile',\n",
       "  'a light green bunny-like being with big ears, white smile'),\n",
       " ('a small, red, fox like animal with orange ears and orange tail',\n",
       "  'a small red fox-like animal with orange ears, orange tail'),\n",
       " ('a large, green, frog like animal with white stomach and circular arms',\n",
       "  'a big green frog-like animal with white stomach, round arms'),\n",
       " ('a small light red creature with brown eyes and small arms',\n",
       "  'a small light red being with brown eyes, small arms'),\n",
       " ('a large red and orange animal with orange ears, red tail',\n",
       "  'a big red-orange animal with orange ears, red tail'),\n",
       " ('a small red, rectangular creature with small arms and small grey horns',\n",
       "  'a small red rectangular being with small arms, grey horns'),\n",
       " ('a large blue creature with a light blue center',\n",
       "  'a big blue being with a light blue center'),\n",
       " ('a large, circular blue creature with circular blue ears and small legs',\n",
       "  'a big round blue being with round blue ears, small legs'),\n",
       " ('Creature with a large, square-shaped head, green outfit with purple outlining the outfit',\n",
       "  'being with big square head, green attire with purple trim'),\n",
       " ('A creature with large, bright red, bushy hair, a dark outfit with a yellow belt',\n",
       "  'Being with big bright red bushy hair, dark attire with yellow belt'),\n",
       " ('a small, black, circular character with one red eye, long black arms, a red glow and grey shadow',\n",
       "  'a small black round figure with one red eye, long black arms, red glow, grey shadow'),\n",
       " ('a small red creature with brown horns and black legs',\n",
       "  'a small red being with brown horns, dark legs'),\n",
       " ('a blue, squid like creature with three black arms and white eyes',\n",
       "  'a blue squid-like being with three black arms, white eyes'),\n",
       " ('a small creature with a red circular head, large black eyes, pink blush, and brown legs',\n",
       "  'a small being with round red head, big black eyes, pink blush, brown legs'),\n",
       " ('a dark red, fox like animal with black eyes, white mouth, white center and tail',\n",
       "  'a dark red fox-like animal with black eyes, white mouth, white center, tail'),\n",
       " ('a blue animal with circular blue ears, white mouth and black eye',\n",
       "  'a blue animal with round blue ears, white mouth, black eye'),\n",
       " ('a large red animal with pointy ears, black nose and large tail',\n",
       "  'a big red animal with pointy ears, black nose, big tail'),\n",
       " ('a large, light blue, bear like animal, with a white mouth, white ears and white center',\n",
       "  'a big light blue bear-like animal with a white mouth, white ears, white center'),\n",
       " ('a small, light green creature with red eyes and a beige center',\n",
       "  'a small light green being with red eyes, beige center'),\n",
       " ('a small, blue, mouse like animal with large blue circular ears and light blue center',\n",
       "  'a small blue mouse-like animal with big blue round ears, light blue center'),\n",
       " ('a large green character with long green arms, long green legs, pink center and pink hat',\n",
       "  'a big green figure with long green arms, long green legs, pink center, pink hat'),\n",
       " ('a green animal with green ears, yellow eyes, surrounded by purple and orange sparkles',\n",
       "  'a green animal with green ears, yellow eyes, surrounded by purple and orange sparkles'),\n",
       " ('a large, green, ciruclar creature with long black eyes, white center and small black legs',\n",
       "  'a big green round being with long black eyes, white center, small black legs'),\n",
       " ('a brown potato', 'a brown spud'),\n",
       " ('a green cucumber', 'a green gourd'),\n",
       " ('a dark grey circular object', 'a dark grey round object'),\n",
       " ('a tomato like object with a red circle connected to a green leaf',\n",
       "  'a tomato-like thing with a red circle and a green leaf'),\n",
       " ('a white onion with a green leaf', 'a white bulb with green top'),\n",
       " ('a green apple', 'a green apple'),\n",
       " ('a pink peach with a green leaf', 'a pink fuzzy fruit with green leaf'),\n",
       " ('a pink peach with a green leaf', 'a pink fuzzy fruit with green leaf'),\n",
       " ('a light brown turnip with a dark green leaf',\n",
       "  'a light brown root with green top'),\n",
       " ('a green pepper with a dark green stem', 'a green pepper'),\n",
       " ('a purple plum with a dark green leaf',\n",
       "  'a purple stone fruit with green leaf'),\n",
       " ('a long red chile pepper with green stem',\n",
       "  'a long red chili with green top'),\n",
       " ('a red tomato with a large green leaf', 'a red tomato with big green leaf'),\n",
       " ('a beige mushroom with purple stem', 'a beige fungus with purple stem'),\n",
       " ('a purple turnip with green leaf', 'a purple root with green leaf'),\n",
       " ('a red apple with a green leaf', 'a red apple with green leaf'),\n",
       " ('a sliced red apple with a green leaf',\n",
       "  'a sliced red apple with green leaf'),\n",
       " ('a red pepper with green stem', 'a red chili with green top'),\n",
       " ('an orange ginger', 'an orange root'),\n",
       " ('green grapes with a dark green stem', 'green grapes with green stem'),\n",
       " ('purple grapes with a dark green stem', 'purple grapes with green stem'),\n",
       " ('a beige and purple onion with a dark green leaf',\n",
       "  'a beige-purple bulb with green top'),\n",
       " ('a orange orange fruit with a dark green leaf',\n",
       "  'an orange citrus with green leaf'),\n",
       " ('a brown coconut', 'a brown coconut'),\n",
       " ('a green pepper with a dark green stem', 'a green pepper'),\n",
       " ('an orange carrot with a green leaf', 'an orange carrot with green leaf'),\n",
       " ('a brown rock', 'a brown rock'),\n",
       " ('a sliced orange fruit', 'a sliced orange citrus'),\n",
       " ('a red pepper with a dark green stem', 'a red chili with green top'),\n",
       " ('a red tomato with large green leaf', 'a red tomato with big green leaf'),\n",
       " ('a red apple with a red stem', 'a red apple with red stem'),\n",
       " ('a sliced red apple with a dark green stem',\n",
       "  'a sliced red apple with green stem'),\n",
       " ('a green cabbage', 'a green cabbage'),\n",
       " ('a pink peach with a dark green stem', 'a pink fuzzy fruit with green top'),\n",
       " ('a purple onion with a green leaf', 'a purple bulb with green top'),\n",
       " ('a pink peach with a dark green leaf', 'a pink fuzzy fruit with green top'),\n",
       " ('a red tomato with a large green leaf', 'a red tomato with big green leaf'),\n",
       " ('a yellow banana with a brown stem', 'a yellow banana with brown top'),\n",
       " ('a green cucumber', 'a green gourd'),\n",
       " ('a brown mushroom with a light brown stem:', 'a brown fungus'),\n",
       " ('a long red chile pepper with a green stem',\n",
       "  'a long red chili with green top'),\n",
       " ('a dark green broccoli', 'a dark green vegetable'),\n",
       " ('a purple plum with a green leaf', 'a purple stone fruit with green leaf'),\n",
       " ('an orange orange fruit with a large green leaf',\n",
       "  'an orange citrus with big green leaf'),\n",
       " ('an orange pineapple with green leaf',\n",
       "  'an orange spiny fruit with green top'),\n",
       " ('an orange orange fruit with a large, dark green leaf',\n",
       "  'an orange citrus with big green top'),\n",
       " ('a sliced red apple with a dark green leaf:',\n",
       "  'a sliced red apple with green top'),\n",
       " ('a sliced green apple with a dark green leaf',\n",
       "  'a sliced green apple with green top'),\n",
       " ('a red tomato with a green stem', 'a red tomato with green top'),\n",
       " ('red cherries with a brown stem and dark green leaf',\n",
       "  'red cherries with brown stem and green leaf'),\n",
       " ('green cabbage', 'green cabbage'),\n",
       " ('a beige turnip with a long green stem',\n",
       "  'a beige root with long green stem'),\n",
       " ('a green and dark green watermelon', 'a green striped melon'),\n",
       " ('a brown coconut', 'a brown coconut'),\n",
       " ('a green pepper with a dark green stem', 'a green pepper'),\n",
       " ('a green and dark green striped watermelon', 'a green striped melon'),\n",
       " ('an orange orange fruit with large dark green leaf',\n",
       "  'an orange citrus with big green leaf'),\n",
       " ('a red tomato with a green stem', 'a red tomato with green top'),\n",
       " ('a brown coconut', 'a brown coconut'),\n",
       " ('a red pepper with a green stem', 'a red chili with green top'),\n",
       " ('a yellow bible with a red cross in the center',\n",
       "  'a yellow holy book with red cross'),\n",
       " ('a brown bible with a green cross in the center',\n",
       "  'a brown holy book with green cross'),\n",
       " ('a red rope with a silver pendant', 'a red string with silver pendant'),\n",
       " ('a blue key', 'a blue key'),\n",
       " ('a red sword with a black handle', 'a red sword with dark handle'),\n",
       " ('a red bible with a light red cross in the center',\n",
       "  'a red holy book with light red cross'),\n",
       " ('a red book with light red 8 in the center', 'a red tome with light red 8'),\n",
       " ('brown armor', 'brown armor'),\n",
       " ('a blue fish with grey fins and a grey tail',\n",
       "  'a blue fish with grey fins and tail'),\n",
       " ('a red glove', 'a red glove'),\n",
       " ('a green gemstone', 'a green gem'),\n",
       " ('a red circle', 'a red dot'),\n",
       " ('a black book with an 8 in the center', 'a black tome with 8'),\n",
       " ('a blue and black shield', 'a blue-black shield'),\n",
       " ('a blue helmet', 'a blue helmet'),\n",
       " ('a purple torch', 'a purple torch'),\n",
       " ('a green gemstone', 'a green gem'),\n",
       " ('a brown helmet', 'a brown helmet'),\n",
       " ('a brown book with a green center', 'a brown tome with green center'),\n",
       " ('a silver book with a yellow 8 in the center',\n",
       "  'a silver tome with yellow 8'),\n",
       " ('two brown coconuts', 'two brown coconuts'),\n",
       " ('a red apple with brown stem', 'a red apple with brown stem'),\n",
       " ('a yellow and silver shield', 'a yellow-silver shield'),\n",
       " ('a grey gemstone', 'a grey gem'),\n",
       " ('a purple gemstone', 'a purple gem'),\n",
       " ('a brown helmet', 'a brown helmet'),\n",
       " ('a purple diamond', 'a purple diamond'),\n",
       " ('a yellow necklace with a red pendant',\n",
       "  'a yellow necklace with red pendant'),\n",
       " ('a dark orange square gemstone', 'a dark orange square gem'),\n",
       " ('a brown rock', 'a brown rock'),\n",
       " ('a yellow diamond', 'a yellow gem'),\n",
       " ('red armor', 'red armor'),\n",
       " ('a purple test tube with red liquid', 'a purple vial with red liquid'),\n",
       " ('a blue book with light blue in the center',\n",
       "  'a blue tome with light blue center'),\n",
       " ('a dark red book with light grey 8 in the center',\n",
       "  'a dark red tome with light grey 8'),\n",
       " ('an orange fish with grey fins and grey tail',\n",
       "  'an orange fish with grey fins and tail'),\n",
       " ('a yellow square helmet', 'a yellow square helmet'),\n",
       " ('a brown glove', 'a brown glove'),\n",
       " ('a purple test tube with blue liquid', 'a purple vial with blue liquid'),\n",
       " ('an arrow with green tip, brown shaft and green feather',\n",
       "  'an arrow with green tip, brown shaft, green feathers'),\n",
       " ('a brown key', 'a brown key'),\n",
       " ('a grey ring with a red gem', 'a grey ring with red gem'),\n",
       " ('a blue test tube with red liquid', 'a blue vial with red liquid'),\n",
       " ('a grey bar', 'a grey bar'),\n",
       " ('a brown bar', 'a brown bar'),\n",
       " ('a striped, yellow box with a grey bow',\n",
       "  'a striped yellow box with grey bow'),\n",
       " ('a yellow rock', 'a yellow rock'),\n",
       " ('a black ring with a blue gem', 'a black ring with blue gem'),\n",
       " ('a blue test tube with black liquid', 'a blue vial with dark liquid'),\n",
       " ('a red book with light red center', 'a red tome with light red center'),\n",
       " ('a grey sword with a yellow handle', 'a grey sword with yellow grip'),\n",
       " ('a blue and white striped gift', 'a blue-white striped gift'),\n",
       " ('a red bow', 'a red ribbon'),\n",
       " ('a grey ball', 'a grey ball'),\n",
       " ('a bow with yellow tip, grey shaft and yellow feather',\n",
       "  'a bolt with yellow tip, grey shaft, yellow feathers'),\n",
       " ('a grey ring', 'a grey ring'),\n",
       " ('a blue and black shield', 'a blue-black shield'),\n",
       " ('a grey book with light grey center', 'a grey tome with light grey center'),\n",
       " ('a light red box', 'a light red box'),\n",
       " ('a grey gemstone', 'a grey gem')]"
      ]
     },
     "execution_count": 16,
     "metadata": {},
     "output_type": "execute_result"
    }
   ],
   "execution_count": 16
  },
  {
   "metadata": {
    "ExecuteTime": {
     "end_time": "2024-07-27T22:37:58.336549Z",
     "start_time": "2024-07-27T22:36:52.327291Z"
    }
   },
   "cell_type": "code",
   "source": [
    "# Get GPT embeddings and additional noise \n",
    "embeddings_gpt, _ = llm.get_sent_word_embeddings(labels_gpt, LLM_MODEL, LLM_TOKENIZER)\n",
    "embeddings_aug_gpt, idxs_aug_gpt = augmentation.interpolate_embeddings(embeddings, embeddings_gpt, n_steps=1)"
   ],
   "id": "cb2e826bf6adf831",
   "outputs": [],
   "execution_count": 17
  },
  {
   "metadata": {
    "ExecuteTime": {
     "end_time": "2024-07-27T22:37:58.439565Z",
     "start_time": "2024-07-27T22:37:58.339009Z"
    }
   },
   "cell_type": "code",
   "source": [
    "def _rearrange(lst, idxs):\n",
    "    \"\"\"\n",
    "    shortcut for list comprehension to reorder as python lists don't behave like ndarrays\n",
    "    but the tokenizers require python lists -> easier to rearrange lists than the other way around\n",
    "    :param lst: python 1d list \n",
    "    :param idxs: list of indices to reorder \n",
    "    :return: reordered list \n",
    "    \"\"\"\n",
    "    return [lst[i] for i in idxs]"
   ],
   "id": "691fbcf5be4415",
   "outputs": [],
   "execution_count": 18
  },
  {
   "metadata": {
    "ExecuteTime": {
     "end_time": "2024-07-27T22:37:58.489859Z",
     "start_time": "2024-07-27T22:37:58.441030Z"
    }
   },
   "cell_type": "code",
   "source": [
    "# generate final training data \n",
    "training_images = (images_oht, images_oht[idxs_aug_noise], images_aug_mixup, images_oht, images_oht[idxs_aug_gpt])\n",
    "\n",
    "labels_aug_noise = _rearrange(LABELS, idxs_aug_noise)\n",
    "labels_aug_gpt = _rearrange(LABELS, idxs_aug_gpt)\n",
    "\n",
    "training_labels = (LABELS, labels_aug_noise, labels_aug_mixup, labels_gpt, labels_aug_gpt)\n",
    "training_embeddings = (embeddings, embeddings_noise, embeddings_aug_mixup, embeddings_gpt, embeddings_aug_gpt)\n",
    "training_categories = (\n",
    "    np.full(len(LABELS), 'original'), \n",
    "    np.full(len(labels_aug_noise), 'noise'), \n",
    "    np.full(len(labels_aug_mixup), 'mixup'),\n",
    "    np.full(len(labels_gpt), 'gpt'),\n",
    "    np.full(len(labels_aug_gpt), 'gpt embedding interpolation'))\n",
    "\n",
    "\n",
    "data_train = {\n",
    "    'images': np.concatenate(training_images, axis=0),\n",
    "    'labels': np.concatenate(training_labels, axis=0),\n",
    "    'embeddings': np.concatenate(training_embeddings, axis=0),\n",
    "    'categories': np.concatenate(training_categories, axis=0),\n",
    "    'rgb_colors': rgb_colors,\n",
    "}\n",
    "\n",
    "np.save('datasets/data_train.npy', data_train, allow_pickle=True)"
   ],
   "id": "4be42784d62ce258",
   "outputs": [],
   "execution_count": 19
  },
  {
   "metadata": {},
   "cell_type": "markdown",
   "source": "# Train the model",
   "id": "8a2d777a19bfdef8"
  },
  {
   "metadata": {
    "ExecuteTime": {
     "end_time": "2024-07-27T22:37:58.527426Z",
     "start_time": "2024-07-27T22:37:58.491066Z"
    }
   },
   "cell_type": "code",
   "source": "# model hyperparams",
   "id": "53a421af7ed2fbe",
   "outputs": [],
   "execution_count": 20
  },
  {
   "metadata": {
    "ExecuteTime": {
     "end_time": "2024-07-27T22:37:58.565462Z",
     "start_time": "2024-07-27T22:37:58.528446Z"
    }
   },
   "cell_type": "code",
   "source": "# model tuning",
   "id": "2ebe0e79e8b0a2b",
   "outputs": [],
   "execution_count": 21
  },
  {
   "metadata": {},
   "cell_type": "markdown",
   "source": "# CLIP",
   "id": "7d64d202d43c17b8"
  },
  {
   "metadata": {
    "ExecuteTime": {
     "end_time": "2024-07-27T22:40:00.836276Z",
     "start_time": "2024-07-27T22:40:00.725950Z"
    }
   },
   "cell_type": "code",
   "source": [
    "rgb_images = images.convert_images_to_rgb(images_oht[:5], rgb_colors)\n",
    "labels = LABELS[:5]\n",
    "\n",
    "fig, ax = plt.subplots(1,2)\n",
    "ax[0].imshow(IMAGES[3])\n",
    "ax[1].imshow(rgb_images[3])\n",
    "plt.show()\n",
    "PRE_PROMPT = 'a pixelated, pixel-art image of '\n",
    "\n",
    "annotated_labels = [PRE_PROMPT + l for l in labels]\n",
    "annotated_labels"
   ],
   "id": "6e6eb49ad3a18f05",
   "outputs": [
    {
     "data": {
      "text/plain": [
       "<Figure size 640x480 with 2 Axes>"
      ],
      "image/png": "[encoded data removed]"
     },
     "metadata": {},
     "output_type": "display_data"
    },
    {
     "data": {
      "text/plain": [
       "['a pixelated, pixel-art image of a creature with brown shirt, blue and white pants, dense teal blue hair',\n",
       " 'a pixelated, pixel-art image of a brown character with large blonde hair, a pink shirt and black pants',\n",
       " 'a pixelated, pixel-art image of A brown character with red shirt, blue pants and white hair with faux bald haircut',\n",
       " 'a pixelated, pixel-art image of Brown character with black shirt, white pants and golden hair with spikes on right side',\n",
       " 'a pixelated, pixel-art image of character with long purple hair and gray hat wearing brown shirt and black pants']"
      ]
     },
     "execution_count": 27,
     "metadata": {},
     "output_type": "execute_result"
    }
   ],
   "execution_count": 27
  },
  {
   "metadata": {},
   "cell_type": "markdown",
   "source": "",
   "id": "47b8a0842a51696f"
  },
  {
   "metadata": {
    "ExecuteTime": {
     "end_time": "2024-07-27T22:37:58.714437Z",
     "start_time": "2024-07-27T22:37:58.655553Z"
    }
   },
   "cell_type": "code",
   "source": [
    "# Preprocess images and texts\n",
    "inputs = CLIP_PROCESSOR(text=annotated_labels, images=rgb_images, return_tensors=\"pt\", padding=True)"
   ],
   "id": "e0fbcbdaef99150d",
   "outputs": [],
   "execution_count": 23
  },
  {
   "metadata": {
    "ExecuteTime": {
     "end_time": "2024-07-27T22:38:09.779618Z",
     "start_time": "2024-07-27T22:37:58.715581Z"
    }
   },
   "cell_type": "code",
   "source": [
    "# Generate embeddings\n",
    "with torch.no_grad():\n",
    "    outputs = CLIP_MODEL(**inputs)\n",
    "\n",
    "# Get image and text embeddings\n",
    "image_embeddings = outputs.image_embeds\n",
    "text_embeddings = outputs.text_embeds"
   ],
   "id": "486c59f64cf7d132",
   "outputs": [],
   "execution_count": 24
  },
  {
   "metadata": {
    "ExecuteTime": {
     "end_time": "2024-07-27T22:38:09.829136Z",
     "start_time": "2024-07-27T22:38:09.781222Z"
    }
   },
   "cell_type": "code",
   "source": [
    "import torch.nn.functional as F\n",
    "\n",
    "similarity = nn.CosineSimilarity(dim=1, eps=1e-6)\n",
    "print(similarity(image_embeddings, text_embeddings))"
   ],
   "id": "efc934552555475a",
   "outputs": [
    {
     "name": "stdout",
     "output_type": "stream",
     "text": [
      "tensor([0.3326, 0.3082, 0.3495, 0.3068, 0.3039])\n"
     ]
    }
   ],
   "execution_count": 25
  }
 ],
 "metadata": {
  "kernelspec": {
   "display_name": "Python 3",
   "language": "python",
   "name": "python3"
  },
  "language_info": {
   "codemirror_mode": {
    "name": "ipython",
    "version": 2
   },
   "file_extension": ".py",
   "mimetype": "text/x-python",
   "name": "python",
   "nbconvert_exporter": "python",
   "pygments_lexer": "ipython2",
   "version": "2.7.6"
  }
 },
 "nbformat": 4,
 "nbformat_minor": 5
}
