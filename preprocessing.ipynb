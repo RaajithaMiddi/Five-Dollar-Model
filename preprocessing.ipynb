{
 "cells": [
  {
   "cell_type": "markdown",
   "id": "b26629fc2d7ca83c",
   "metadata": {},
   "source": [
    "# Imports"
   ]
  },
  {
   "cell_type": "code",
   "id": "f74807a5f5b70055",
   "metadata": {
    "ExecuteTime": {
     "end_time": "2024-07-31T01:05:47.912378Z",
     "start_time": "2024-07-31T01:05:47.900531Z"
    }
   },
   "source": [
    "%load_ext autoreload\n",
    "%autoreload 2"
   ],
   "outputs": [],
   "execution_count": 1
  },
  {
   "cell_type": "code",
   "id": "initial_id",
   "metadata": {
    "ExecuteTime": {
     "end_time": "2024-07-31T02:03:13.122443Z",
     "start_time": "2024-07-31T02:03:10.797288Z"
    }
   },
   "source": [
    "import os \n",
    "from utils import augmentation, llm, gpt, images\n",
    "\n",
    "import matplotlib.pyplot as plt\n",
    "import numpy as np\n",
    "from openai import OpenAI\n",
    "import torch\n",
    "import torch.nn as nn\n",
    "from transformers import AutoTokenizer, AutoModel, CLIPModel, CLIPProcessor"
   ],
   "outputs": [],
   "execution_count": 3
  },
  {
   "cell_type": "markdown",
   "id": "5cff96745747594a",
   "metadata": {},
   "source": [
    "# Load Data"
   ]
  },
  {
   "cell_type": "code",
   "id": "83fd8dbdab0162b",
   "metadata": {
    "ExecuteTime": {
     "end_time": "2024-07-31T01:05:52.140213Z",
     "start_time": "2024-07-31T01:05:52.113595Z"
    }
   },
   "source": [
    "IMAGES = np.load('datasets/pixelarts_images.npy', allow_pickle=True)\n",
    "LABELS = np.load('datasets/pixelarts_labels.npy', allow_pickle=True).tolist()"
   ],
   "outputs": [],
   "execution_count": 3
  },
  {
   "cell_type": "code",
   "id": "7996466f7eab93fa",
   "metadata": {
    "ExecuteTime": {
     "end_time": "2024-07-31T01:05:52.166795Z",
     "start_time": "2024-07-31T01:05:52.141010Z"
    }
   },
   "source": [
    "print(IMAGES.shape)\n",
    "print(len(LABELS))"
   ],
   "outputs": [
    {
     "name": "stdout",
     "output_type": "stream",
     "text": [
      "(300, 16, 16, 3)\n",
      "300\n"
     ]
    }
   ],
   "execution_count": 4
  },
  {
   "cell_type": "code",
   "id": "f730b634079a18cb",
   "metadata": {
    "ExecuteTime": {
     "end_time": "2024-07-31T01:05:52.194989Z",
     "start_time": "2024-07-31T01:05:52.168357Z"
    }
   },
   "source": [
    "LABELS[228]"
   ],
   "outputs": [
    {
     "data": {
      "text/plain": [
       "'a red tomato with a green stem'"
      ]
     },
     "execution_count": 5,
     "metadata": {},
     "output_type": "execute_result"
    }
   ],
   "execution_count": 5
  },
  {
   "cell_type": "code",
   "id": "940f7b598888dea7",
   "metadata": {
    "ExecuteTime": {
     "end_time": "2024-07-31T01:05:52.302350Z",
     "start_time": "2024-07-31T01:05:52.195889Z"
    }
   },
   "source": [
    "plt.imshow(IMAGES[228])"
   ],
   "outputs": [
    {
     "data": {
      "text/plain": [
       "<matplotlib.image.AxesImage at 0x3219d8220>"
      ]
     },
     "execution_count": 6,
     "metadata": {},
     "output_type": "execute_result"
    },
    {
     "data": {
      "text/plain": [
       "<Figure size 640x480 with 1 Axes>"
      ],
      "image/png": "[encoded data removed]"
     },
     "metadata": {},
     "output_type": "display_data"
    }
   ],
   "execution_count": 6
  },
  {
   "cell_type": "markdown",
   "id": "b85387ba0a544622",
   "metadata": {
    "jupyter": {
     "is_executing": true
    }
   },
   "source": [
    "# Load Pretrained Models"
   ]
  },
  {
   "cell_type": "code",
   "id": "7cc3146ffeee98c2",
   "metadata": {
    "ExecuteTime": {
     "end_time": "2024-07-31T01:05:57.212919Z",
     "start_time": "2024-07-31T01:05:52.303160Z"
    }
   },
   "source": [
    "# sentence embedding model\n",
    "# https://huggingface.co/sentence-transformers/multi-qa-MiniLM-L6-cos-v1\n",
    "\n",
    "os.environ[\"TOKENIZERS_PARALLELISM\"] = \"false\"\n",
    "\n",
    "# limit of 512 word pieces, trained on length of 250 word pieces and might not work for longer texts\n",
    "\n",
    "tokenizer_uri_name = \"sentence-transformers/multi-qa-MiniLM-L6-cos-v1\"\n",
    "clip_uri_name = \"openai/clip-vit-base-patch32\"\n",
    "\n",
    "LLM_TOKENIZER = AutoTokenizer.from_pretrained(tokenizer_uri_name)\n",
    "LLM_MODEL = AutoModel.from_pretrained(tokenizer_uri_name)\n",
    "\n",
    "CLIP_PROCESSOR = CLIPProcessor.from_pretrained(clip_uri_name)\n",
    "CLIP_MODEL = CLIPModel.from_pretrained(clip_uri_name)"
   ],
   "outputs": [
    {
     "name": "stderr",
     "output_type": "stream",
     "text": [
      "/Users/henrymei/anaconda3/envs/five-dollar-model/lib/python3.9/site-packages/huggingface_hub/file_download.py:1132: FutureWarning: `resume_download` is deprecated and will be removed in version 1.0.0. Downloads always resume when possible. If you want to force a new download, use `force_download=True`.\n",
      "  warnings.warn(\n",
      "/Users/henrymei/anaconda3/envs/five-dollar-model/lib/python3.9/site-packages/huggingface_hub/file_download.py:1132: FutureWarning: `resume_download` is deprecated and will be removed in version 1.0.0. Downloads always resume when possible. If you want to force a new download, use `force_download=True`.\n",
      "  warnings.warn(\n"
     ]
    }
   ],
   "execution_count": 7
  },
  {
   "cell_type": "markdown",
   "id": "ccb8a08973972ee3",
   "metadata": {
    "jupyter": {
     "is_executing": true
    }
   },
   "source": [
    "# Setup GPT"
   ]
  },
  {
   "cell_type": "code",
   "id": "19c2887b3c2556c0",
   "metadata": {
    "ExecuteTime": {
     "end_time": "2024-07-31T01:05:57.255276Z",
     "start_time": "2024-07-31T01:05:57.213780Z"
    }
   },
   "source": [
    "with open('apikey.env', 'r') as file:\n",
    "    # Read the content of the file\n",
    "    api_key = file.read().strip() "
   ],
   "outputs": [],
   "execution_count": 8
  },
  {
   "cell_type": "code",
   "id": "60ff3a1bb4a858e9",
   "metadata": {
    "ExecuteTime": {
     "end_time": "2024-07-31T01:05:57.300056Z",
     "start_time": "2024-07-31T01:05:57.256040Z"
    }
   },
   "source": [
    "client = OpenAI(api_key=api_key)"
   ],
   "outputs": [],
   "execution_count": 9
  },
  {
   "cell_type": "code",
   "id": "dd2c6783f39a1000",
   "metadata": {
    "ExecuteTime": {
     "end_time": "2024-07-31T01:16:20.815229Z",
     "start_time": "2024-07-31T01:16:20.758973Z"
    }
   },
   "source": [
    "GPT_PROMPT = \"\"\"\n",
    "    Each string in the list provided is a description of a pixel art image. For each string, write a corresponding alternate description that uses different words, sentence structure, and length. Use common words when writing the alternate labels and do not simply correct spelling and punctuation or use a different regional spelling (e.g., gray versus grey). Each alternate description should be different from the original string in a significant way. Your output list should have the same number of strings as the input list. \"\"\"\n",
    "\n",
    "GPT_ROLE = \"\"\"\n",
    "    You are a helpful assistant with excellent attention to detail. You only output python lists of strings according \n",
    "    to the instructions you are given. Output the list on a single line, without any newlines. Make sure every list is \n",
    "    closed properly. Each output string is significantly different than the input.\"\n",
    "    \"\"\"\n",
    "\n",
    "GPT_TOKEN_THRESHOLD = 4000"
   ],
   "outputs": [],
   "execution_count": 19
  },
  {
   "cell_type": "markdown",
   "id": "6696cd2b841bd8cb",
   "metadata": {
    "jupyter": {
     "is_executing": true
    }
   },
   "source": [
    "# Augment data"
   ]
  },
  {
   "cell_type": "code",
   "id": "25cd4639c108367f",
   "metadata": {
    "ExecuteTime": {
     "end_time": "2024-07-31T01:05:57.619350Z",
     "start_time": "2024-07-31T01:05:57.344918Z"
    }
   },
   "source": [
    "images_oht, rgb_colors, quantizer = images.quantize_images(IMAGES, n_colors=16)"
   ],
   "outputs": [],
   "execution_count": 11
  },
  {
   "cell_type": "code",
   "id": "a210de37fbf4166f",
   "metadata": {
    "ExecuteTime": {
     "end_time": "2024-07-31T01:05:57.689415Z",
     "start_time": "2024-07-31T01:05:57.622481Z"
    }
   },
   "source": [
    "images_oht.shape"
   ],
   "outputs": [
    {
     "data": {
      "text/plain": [
       "(300, 16, 16, 16)"
      ]
     },
     "execution_count": 12,
     "metadata": {},
     "output_type": "execute_result"
    }
   ],
   "execution_count": 12
  },
  {
   "cell_type": "code",
   "id": "b5a13ee0b3b31180",
   "metadata": {
    "ExecuteTime": {
     "end_time": "2024-07-31T01:08:49.315298Z",
     "start_time": "2024-07-31T01:05:57.691875Z"
    }
   },
   "source": [
    "# Generate embeddings from ground truth \n",
    "embeddings, _ = llm.get_sent_word_embeddings(LABELS, LLM_MODEL, LLM_TOKENIZER)"
   ],
   "outputs": [],
   "execution_count": 13
  },
  {
   "cell_type": "code",
   "id": "8e64f80170590604",
   "metadata": {
    "ExecuteTime": {
     "end_time": "2024-07-31T01:08:49.488818Z",
     "start_time": "2024-07-31T01:08:49.317627Z"
    }
   },
   "source": [
    "# Do embedding augmentation by multiplying Gaussian noise in \n",
    "embeddings_noise, idxs_aug_noise = llm.add_noise_to_embeddings(embeddings, num_augmentations=3, noise_std_dev=0.01)"
   ],
   "outputs": [],
   "execution_count": 14
  },
  {
   "cell_type": "code",
   "id": "e5d59505f2bbf3cd",
   "metadata": {
    "ExecuteTime": {
     "end_time": "2024-07-31T01:08:49.547138Z",
     "start_time": "2024-07-31T01:08:49.489567Z"
    }
   },
   "source": [
    "# pass in raw_images to mixup along with embeddings \n",
    "images_aug_mixup_raw, embeddings_aug_mixup, idxs_aug_mixup = augmentation.generate_mixup(IMAGES, embeddings, n_mixups=1, lmbda=0.5)\n",
    "\n",
    "# requantize mixed up images using original clusters \n",
    "images_aug_mixup, _, _ = images.quantize_images(images_aug_mixup_raw, model=quantizer)\n",
    "\n",
    "# generate new labels; callit MIXUP as the original labels are useless since the embeddings are interpolated \n",
    "labels_aug_mixup = [f'MIXUP idxs {i}' for i in idxs_aug_mixup]"
   ],
   "outputs": [],
   "execution_count": 15
  },
  {
   "cell_type": "code",
   "id": "a64538bb330c63da",
   "metadata": {
    "ExecuteTime": {
     "end_time": "2024-07-31T01:17:54.025833Z",
     "start_time": "2024-07-31T01:16:24.216352Z"
    }
   },
   "source": [
    "# Generate GPT alt labels \n",
    "labels_gpt = gpt.get_gpt_alt_labels(LABELS, client, GPT_PROMPT, GPT_ROLE, model='gpt-4o', num_retries=3, debug=True)\n",
    "list(zip(LABELS, labels_gpt))"
   ],
   "outputs": [
    {
     "name": "stdout",
     "output_type": "stream",
     "text": [
      "Prompt size: 182\n",
      "split time = 0.002554178237915039\n",
      "Number of loops:  1\n",
      "Loop 0 running through array of size 300\n",
      "FAILED. 300 labels but 299 alts!\n",
      "attempting retry # 1\n",
      "api call time = 89.72872614860535\n"
     ]
    },
    {
     "data": {
      "text/plain": [
       "[('a creature with brown shirt, blue and white pants, dense teal blue hair',\n",
       "  'a teal-haired creature in a brown top and blue striped pants'),\n",
       " ('a brown character with large blonde hair, a pink shirt and black pants',\n",
       "  'a brown being with large blond locks, pink blouse, and dark trousers'),\n",
       " ('A brown character with red shirt, blue pants and white hair with faux bald haircut',\n",
       "  'A brown being with white faux bald hair, red top, and blue trousers'),\n",
       " ('Brown character with black shirt, white pants and golden hair with spikes on right side',\n",
       "  'Brown being with golden spikes in hair, black shirt, and white trousers'),\n",
       " ('character with long purple hair and gray hat wearing brown shirt and black pants',\n",
       "  'character in a brown shirt and black pants donning a gray hat with long purple hair'),\n",
       " ('white character with purple hair and green hands wearing purple shirt, orange pants',\n",
       "  'white being with purple locks, green hands, purple top, and orange trousers'),\n",
       " ('Brown character with one eye blinded and covered in green wearing green shirt and black pants',\n",
       "  'Brown being with one eye covered in green cloth, green shirt, and dark trousers'),\n",
       " ('character with long purple hair and gray hat wearing brown shirt, black pants and an yellow belt',\n",
       "  'character in a brown shirt, black pants, gray hat, and yellow belt with long purple hair'),\n",
       " ('monster covered in black shirt and green pants',\n",
       "  'monster in a black shirt and green trousers'),\n",
       " ('white character with green coat and pants, brown shirt, blonde hair and blue ears',\n",
       "  'white being in green outfit with blonde hair and blue ears'),\n",
       " ('A brown character with white hair, spikes on the right side wearing a gray shirt and black pants',\n",
       "  'A brown character in a gray top, black pants, white spiky hair on one side'),\n",
       " ('character with large black eyes, golden hair with Mohawk haircut wearing purple shirt and blue pants',\n",
       "  'character with mohawk golden hair, large black eyes, wearing purple top and blue trousers'),\n",
       " ('white character with black shirt, white pants and a gray officer cap',\n",
       "  'white being in a black shirt, white trousers, and gray officer cap'),\n",
       " ('character with gray shirt, yellow pants and long purple hair',\n",
       "  'character in a gray shirt, yellow trousers, and long purple hair'),\n",
       " ('character with maroon shirt, black pants and an officer cap',\n",
       "  'being with maroon top, black trousers, and an officer hat'),\n",
       " ('white character with gray shit, blue pants and black hair with comb-over style',\n",
       "  'white being in gray shirt, blue trousers, and combed-over black hair'),\n",
       " ('creature with gray shirt and white pants wearing a horn cap',\n",
       "  'creature in a gray top, white trousers, and horned cap'),\n",
       " ('creature with red outfit, gray cape and a red horn hat',\n",
       "  'creature adorned in red attire, gray cape, and red horned hat'),\n",
       " ('character with black shirt, white pants and purple hair with left side hair spikes',\n",
       "  'character with purple spiked hair on one side, black shirt, and white trousers'),\n",
       " ('creature with blue outfit, green cape and blue horn hat',\n",
       "  'creature in blue attire, green cape, and blue horned hat'),\n",
       " ('character with huge black eyes and gray hair wearing a blue shirt and green pants',\n",
       "  'character with massive black eyes and gray hair, dressed in blue top and green trousers'),\n",
       " ('creature with a red outfit, gray cape and a red horn hat',\n",
       "  'creature with red attire, gray cape, and horned hat'),\n",
       " ('character with black hair wearing a red outfit with white strips on shirt',\n",
       "  'character with black hair, red top with white stripes'),\n",
       " ('brown character with gray and blue shirt, purple pants and white hair',\n",
       "  'brown being in gray and blue top, purple trousers, white hair'),\n",
       " ('A green monster with huge black eyes, yellow ears and wearing gray shorts',\n",
       "  'A green monster with big black eyes, yellow ears, in gray shorts'),\n",
       " ('A brown character with huge black eyes, white hair wearing a gray and blue shirt, purple pants',\n",
       "  'A brown being with large black eyes, white spiked hair, gray-blue top, purple pants'),\n",
       " ('A gray cat like character with black eyes and nose wearing gray pants',\n",
       "  'A gray cat-like figure with black eyes and nose, gray trousers'),\n",
       " ('A brown character with gray outfit, yellow belt and red hair',\n",
       "  'A brown character in gray attire, yellow belt, red hair'),\n",
       " ('A character with right eye blinded, covering with a gray cloth and wearing gray outfit and has red hair',\n",
       "  'A figure with right eye concealed by gray fabric, in a gray outfit and red hair'),\n",
       " ('a brown character with gray shirt, white pants and white hair with long spikes on the left side',\n",
       "  'a brown being with gray top, white trousers, and long white hair spikes on one side'),\n",
       " ('A white girl with green hair wearing a gray shirt with pink sleeves and a white pant',\n",
       "  'A white girl with green hair in a gray shirt with pink sleeves, white trousers'),\n",
       " ('a brown character with huge black eyes, black hair, wearing a white shirt with red shoulders, red pants',\n",
       "  'a brown being with large black eyes, black hair, white top with red shoulders, red pants'),\n",
       " ('A brown character with purple shirt, pink pants and hair',\n",
       "  'A brown character clad in purple shirt, pink trousers, and plain hair'),\n",
       " ('a white character with green hair wearing a dark blue shirt, sky blue pants, brown belt strap with yellow frame',\n",
       "  'a white individual with green hair in a dark blue top, sky blue pants, brown belt with yellow buckle'),\n",
       " ('A character with pink outfit and hair, red shoulders and black belt with red frame',\n",
       "  'A figure in pink attire and hair, red shoulders, black belt with red outline'),\n",
       " ('A black monster with blue shirt, red pants, yellow neckpiece and a dog like face',\n",
       "  'A black creature with blue top, red trousers, yellow neckpiece, dog-like face'),\n",
       " ('A brown character with green hair wearing white pants and gray shirt with white sleeves',\n",
       "  'A brown being with green hair, white trousers, gray top with white sleeves'),\n",
       " ('a character with purple hair wearing a gray hat, brown shirt, black pants and a brown belt with yellow frame',\n",
       "  'a character with purple hair in a gray hat, brown top, black pants, brown belt with yellow buckle'),\n",
       " ('A character with gray shirt, black pants, brown belt with yellow frame and an officer cap',\n",
       "  'A character sporting a gray top, black pants, brown belt with yellow buckle, and officer hat'),\n",
       " ('a brown character with golden hair, mohawk hairstyle wearing a blue shirt and white pants',\n",
       "  'a brown being with golden mohawk, blue top, and white trousers'),\n",
       " ('A character with blue shirt, blue hair, green pants and a brown beard',\n",
       "  'A figure in blue top, blue hair, green trousers, brown beard'),\n",
       " ('A green monster with huge ears, large black eyes wearing gray shorts',\n",
       "  'A green monster with huge ears, large black eyes, in gray shorts'),\n",
       " ('A monster with face like dog, large green head wearing a green shirt, green belt and orange pants',\n",
       "  'A dog-faced monster with large green head, green top, green belt, and orange trousers'),\n",
       " ('A purple monster with brown belt with yellow frame, large ears and dense purple hair ',\n",
       "  'A purple monster with large ears, dense purple hair, brown belt with yellow outline'),\n",
       " ('character with gray and black outfit, yellow neck piece and light green horn hat',\n",
       "  'character in gray-black outfit, yellow neckpiece, light green horned hat'),\n",
       " ('character with off-white sleeveless shirt, white pants and yellow hair with spikes on left side',\n",
       "  'individual in off-white sleeveless top, white pants, yellow spiky hair'),\n",
       " ('A brown character with white hair wearing gray shirt with blue sleeves and purple pants',\n",
       "  'A brown being in white hair, gray top with blue sleeves, purple trousers'),\n",
       " ('A character with long brownish yellow hair, wearing white pants and gray shirt with pink sleeves',\n",
       "  'A person with long brownish yellow hair, white trousers, gray top with pink sleeves'),\n",
       " ('character with red shirt, black pants, golden hair covering right eye and spikes on left side',\n",
       "  'character in red top, black pants, golden hair covering one eye'),\n",
       " ('creature with dog face, long green hair wearing green shirt and belt, orange pants',\n",
       "  'dog-faced creature with long green hair, green shirt, belt, and orange trousers'),\n",
       " ('character with long brown hair wearing black pants, pink shirt with white sleeves',\n",
       "  'figure with long brown hair, black trousers, pink top with white sleeves'),\n",
       " ('character with blue hair, a light blue shirt, green pants, and black shoes',\n",
       "  'blue-haired, in light blue top, green pants, and black shoes'),\n",
       " ('character with green hair covering right eye, a black shirt, white pants',\n",
       "  'green-haired individual, black top, white pants, hair covering right eye'),\n",
       " ('character with long green hair wearing a blue shirt with purple left sleeve, blue and yellow pants',\n",
       "  'long green-haired in blue top with purple left sleeve, blue-yellow pants'),\n",
       " ('character with dense black hair, black shirt with yellow sleeves, brown belt with yellow frame and yellow shoes',\n",
       "  'dense black-haired character, black top with yellow sleeves, brown belt with yellow buckle, yellow shoes'),\n",
       " ('A black monster with purple afro hair, yellow ears and purple shorts',\n",
       "  'A black monster with yellow ears, purple afro hair, purple shorts'),\n",
       " ('character with green shirt and blue pants, blue ears and brown hair',\n",
       "  'green top, blue trousers, blue ears, brown hair'),\n",
       " ('character with blue outfit and hair, green shoulder details, green belt',\n",
       "  'blue outfit, green accents on shoulders, and green belt'),\n",
       " ('brown character with brown cap, green shirt and blue pants',\n",
       "  'brown character with brown cap, green top, blue trousers'),\n",
       " ('a brown character with gray pants and shaved hairstyle with pink hair',\n",
       "  'a brown being in gray trousers with pink shaved hair'),\n",
       " ('an alien look like with only right one holding a green axe',\n",
       "  'an alien with right eye holding a green axe'),\n",
       " ('a white character with gray outfit and gray cap',\n",
       "  'a white being in gray attire and gray hat'),\n",
       " ('red head creature with gray outfit, yellow shoes holding a sword',\n",
       "  'red-headed creature in gray attire, yellow shoes, holding a sword'),\n",
       " ('character with red shirt, gray pants and cap holding a cap',\n",
       "  'character in red shirt, gray trousers, cap, holding a cap'),\n",
       " ('a black creature with blue shirt, red pants holding a sword with red handle',\n",
       "  'a black creature in blue top, red trousers, holding a red-handled sword'),\n",
       " ('character with black outfit, purple hair holding an axe',\n",
       "  'figure in black outfit, purple hair, holding an axe'),\n",
       " ('a brown character with blue shirt, pink pants and light pink hair',\n",
       "  'brown being in blue top, pink trousers, and light pink hair'),\n",
       " ('a character with green shirt, blue pants, long gray hair and brown cap',\n",
       "  'individual in green top, blue trousers, long gray hair, brown cap'),\n",
       " ('A white character with white outfit, golden hair covering right eye',\n",
       "  'A white character in white attire, golden hair covering one eye'),\n",
       " ('a creature with purple outfit and hair, red belt with yellow frame holding an yellow sword',\n",
       "  'a creature in purple attire and hair, red belt with yellow outline, holding a yellow sword'),\n",
       " ('a brown character with teal green hair, black shirt and white pants',\n",
       "  'brown being with teal green hair, black top, white trousers'),\n",
       " ('a character with long green hair, black shirt, white pants standing sideways',\n",
       "  'long green-haired in black top, white trousers, standing sideways'),\n",
       " ('a blue creature with blue outfit and hair, red cap, green neckpiece and belt',\n",
       "  'blue creature in blue attire and hair, red cap, green neckpiece, and belt'),\n",
       " ('a white character with black shirt, blue pants, black hair, standing sideways',\n",
       "  'white being with black top, blue pants, black hair, standing sideways'),\n",
       " ('a creature with gray outfit, green shoes, blue hair, holding yellow sword standing sideways',\n",
       "  'creature in gray attire, green shoes, blue hair, holding yellow sword, standing sideways'),\n",
       " ('a character standing sideways with green hair, blue outfit holding sword',\n",
       "  'sideways green-haired in blue outfit, holding sword'),\n",
       " ('a character with white outfit and red hat',\n",
       "  'person in white attire, red hat'),\n",
       " ('a brown character with purple shaved hair and black pants',\n",
       "  'brown being with purple shaved hair, black trousers'),\n",
       " ('a gray creature standing sideways with horn hat',\n",
       "  'gray creature standing sideways with horned hat'),\n",
       " ('a brown character with white shirt, black pants, green hair',\n",
       "  'brown being in white top, black trousers, green hair'),\n",
       " ('a character with light yellow outfit, yellow shoes, blue hair holding a green object',\n",
       "  'yellow outfitted person, yellow shoes, blue hair, holding a green item'),\n",
       " ('a character with bald head, brown shirt, blue pants, green shoes holding blue sword',\n",
       "  'bald one in brown top, blue pants, green shoes, holding a blue sword'),\n",
       " ('a brown character with purple shirt, yellow pants, dense black hair standing sideways',\n",
       "  'brown being in purple top, yellow pants, dense black hair, standing sideways'),\n",
       " ('A green creature holding a knife with orange handle',\n",
       "  'A green creature holding a knife with an orange handle'),\n",
       " ('a white character with dense black hair, yellow shirt, white pants standing sideways',\n",
       "  'white being with dense black hair in yellow top, white trousers, standing sideways'),\n",
       " ('a character with blue hair, blue shirt and green pants standing sideways',\n",
       "  'sideways blue-haired in blue shirt, green pants'),\n",
       " ('a gray creature standing sideways holding an yellow sword with brown handle',\n",
       "  'gray creature standing sideways with yellow sword and brown handle'),\n",
       " ('a brown character with black hair, black shirt and blue pants',\n",
       "  'brown individual with black hair, black top, and blue pants'),\n",
       " ('a brown character with golden spike hair, purple shirt, blue pants, standing sideways holding broomstick',\n",
       "  'brown being with golden spiky hair, purple top, blue pants, sideways holding broom'),\n",
       " ('character with pink shirt and long pink hair, gray hat, black pants holding a pink axe',\n",
       "  'character in a pink top, long pink hair, gray hat, black trousers, holding a pink axe'),\n",
       " ('a brown character with white short, black pants and hat, brown belt with yellow frame holding sword',\n",
       "  'brown being in white top, black trousers, hat, brown belt with yellow buckle, holding sword'),\n",
       " ('character with pink shirt and long hair, black pants, gray cap holding a sword, standing sideways',\n",
       "  'pink-haired character in pink shirt, black pants, gray hat, holding sword sideways'),\n",
       " ('character with blue hair, brown outfit, green shoes, standing sideways and holding an yellow sword',\n",
       "  'blue-haired in brown outfit, green shoes, standing sideways with a yellow sword'),\n",
       " ('a brown character with purple shirt, pink pants and hair, standing sideways',\n",
       "  'brown being in purple shirt, pink trousers, hair, standing sideways'),\n",
       " ('a character with light pink long hair and shirt, black pants, black cap, holding a sword standing sideways',\n",
       "  'light pink long-haired person in pink shirt, black trousers, black hat, holding sword sideways'),\n",
       " ('a black character with pink shirt, black pants and light peach color long hair standing sideways',\n",
       "  'sideways black being with black trousers, pink shirt, light peach long hair'),\n",
       " ('character with gray outfit, light yellow shoes, red horn helmet holding a sword, standing sideways',\n",
       "  'gray attired person, light yellow shoes, red horned helmet, holding sword sideways'),\n",
       " ('character with gray shirt, white pants and green hair, standing sideways',\n",
       "  'gray shirted, white pants, green-haired, standing sideways'),\n",
       " ('character with gray shirt, white pants, green hair, standing sideways',\n",
       "  'gray top, white trousers, green hair, standing sideways'),\n",
       " ('character with black outfit, purple hair, holding an axe and standing sideways',\n",
       "  'sideways purple-haired character in black outfit, holding an axe'),\n",
       " ('brown character with gray shirt, white pants, green hair, standing sideways',\n",
       "  'brown character with gray top, white trousers, green hair, standing sideways'),\n",
       " ('a green creature with yellow ears, holding a brown axe standing sideways',\n",
       "  'green creature with yellow ears, holding a brown axe, standing sideways'),\n",
       " ('character with black shirt, gray pants and a gray hat standing sideways',\n",
       "  'black shirt, gray trousers, gray hat, standing sideways'),\n",
       " ('character with green hair, wearing a blue and purple outfit, green shoes, holding a golden sword',\n",
       "  'green hair, blue-purple outfit, green shoes, golden sword'),\n",
       " ('character with marron hair, wearing black outfit, belt with yellow frame, holding a white sword with red holder',\n",
       "  'marron-haired in black outfit, yellow belt, holding white sword with red holder'),\n",
       " ('character with dense pink hair wearing gray shirt and yellow pants, standing sideways',\n",
       "  'dense pink-haired in gray top, yellow trousers, sideways'),\n",
       " ('character with blue hair, wearing light yellow outfit, holding a green object, standing sideways',\n",
       "  'blue-haired, light yellow outfit, holding green item, standing sideways'),\n",
       " ('character with purple hair, black outfit, holding an axe with brown holder',\n",
       "  'purple hair, black outfit, holding axe with brown handle'),\n",
       " ('brown character with gray shirt and cap, black pants, brown belt with yellow frame, holding a sword, standing sideways',\n",
       "  'brown top, gray hat, black pants, brown belt with yellow buckle, holding sword, sideways'),\n",
       " ('pink creature standing sideways with shaved style of red hair, red neck piece and a black belt with red frame',\n",
       "  'sideways pink creature with shaved red hair, red neckpiece, black belt with red outline'),\n",
       " ('character with brown hair, gray and black outfit and cap holding a sword, standing sideways',\n",
       "  'brown hair, gray-black outfit, and cap, holding sword, sideways'),\n",
       " ('creature with green hair and shirt, orange pants, standing sideways',\n",
       "  'green hair, green shirt, orange trousers, sideways'),\n",
       " ('brown character with white hair, red shirt and blue pants standing sideways',\n",
       "  'sideways brown character with white hair, red top, blue trousers'),\n",
       " ('brown character with long gray hair, brown cap, green shirt, blue pants, holding an yellow and green object, standing sideways',\n",
       "  'brown being with long gray hair, brown cap, green shirt, blue trousers, holding yellow-green item, standing sideways'),\n",
       " ('character with long green hair, green outfit with yellow sleeves, standing sideways and holding a blue sword with green hodler',\n",
       "  'long green-haired in green outfit with yellow sleeves, sideways holding blue sword with green handle'),\n",
       " ('a brown character with a pointy helmet, yellow shoulder pads, black attire, brown belt, and yellow shoes, holding a gold sword',\n",
       "  'brown being in pointy helmet, yellow shoulder pads, black ensemble, brown belt, yellow shoes, holding gold sword'),\n",
       " ('a white character with blonde hair, blue shirt, brown belt, light blue pants, holding a blue bow',\n",
       "  'white being with blonde hair, blue top, brown belt, light blue trousers, holding blue bow'),\n",
       " ('a brown character with large brown hair, yellow eyepatch, green shirt, black shoes, holding a red sword',\n",
       "  'brown being with big brown hair, yellow eyepatch, green shirt, black shoes, holding red sword'),\n",
       " ('a white character with long orange hair, beige outfit, and blue earrings, holding a beige sword',\n",
       "  'white being with long orange hair, beige outfit, blue earrings, holding beige sword'),\n",
       " ('a brown character with dense green hair, black shirt and white pants, standing sideways',\n",
       "  'brown individual with thick green hair, black top, white trousers, sideways'),\n",
       " ('a circular, light green creature with one black eye and one purple eye',\n",
       "  'circular light green creature with one black eye and one purple eye'),\n",
       " ('a circular, black creature with a red glow, red eyes and grey shadow below',\n",
       "  'black circular creature with red glow, red eyes, grey shadow below'),\n",
       " ('a light green animal with purple eyes and beige shirt',\n",
       "  'light green animal with purple eyes, beige top'),\n",
       " ('a red animal with red eyes, beige mouth, orange shirt',\n",
       "  'red animal with red eyes, beige mouth, orange top'),\n",
       " ('a dark red, fox like animal', 'dark red fox-like animal'),\n",
       " ('a red, circular animal with a yellow antenna, blue eyes',\n",
       "  'red, circular animal with yellow antenna, blue eyes'),\n",
       " ('a turtle like animal with a greens shell',\n",
       "  'turtle-like animal with green shell'),\n",
       " ('a green frog like animal', 'green frog-like creature'),\n",
       " ('a light blue, bird like creature with wings',\n",
       "  'light blue, bird-like being with wings'),\n",
       " ('a dark green, circular creature with a green leaf and two pink flowers',\n",
       "  'dark green round creature with a green leaf and two pink flowers'),\n",
       " ('a large, light blue animal with big ears ',\n",
       "  'large light blue animal with big ears'),\n",
       " ('a red circular creature with white eyes and brown feet',\n",
       "  'round red creature with white eyes and brown feet'),\n",
       " ('A red animal resembling a dog, with black ears and an yellow nose or collar',\n",
       "  'A red dog-like animal with black ears and yellow collar'),\n",
       " ('a pink, lion like animal with dark red mane, pink face and black tail',\n",
       "  'pink lion-like animal with dark red mane, pink face, black tail'),\n",
       " ('a blue creature with large, square eyes, right eye being brown and left is red.',\n",
       "  'blue being with large square eyes, one brown and one red'),\n",
       " ('a small green creature with large eyes and small arms',\n",
       "  'small green creature with big eyes and short arms'),\n",
       " ('a red, circular creature with orange ears and a large beige mouth',\n",
       "  'red round creature with orange ears and big beige mouth'),\n",
       " ('a small, circular creature with small legs and no arms',\n",
       "  'small circular thing with tiny legs and no arms'),\n",
       " ('a large, light blue circular creature with ears and pink eyes',\n",
       "  'large light blue round creature with ears and pink eyes'),\n",
       " ('a green apple with black eyes and leaf',\n",
       "  'green apple with black eyes and leaf'),\n",
       " ('a small, red creature with wide eyes and legs',\n",
       "  'small red being with big eyes and legs'),\n",
       " ('a large, light blue animal, with big blue ears and long arms',\n",
       "  'large light blue being with big blue ears, long arms'),\n",
       " ('a light blue, bird like animal with blue wings',\n",
       "  'light blue bird-like animal with blue wings'),\n",
       " ('a light blue, circular creature with large light blue ears',\n",
       "  'light blue round thing with huge light blue ears'),\n",
       " ('a blue, tear drop shaped creature with a grey shadow',\n",
       "  'blue tear drop creature with a grey shadow'),\n",
       " ('a red, circular creature with one green eye and white smile',\n",
       "  'red round being with one green eye and white smile'),\n",
       " ('a small, circular, light green creature with one purple eye and one black eye',\n",
       "  'small circular light green being with one purple and one black eye'),\n",
       " ('a green, frog like animal with a large head, large orange eyes and a dark green body',\n",
       "  'green frog-like creature with big head, large orange eyes, dark green body'),\n",
       " ('a beige circular creature with a cactus antenna',\n",
       "  'beige round creature with cactus antenna'),\n",
       " ('a red circular creature with orange ears and arms',\n",
       "  'red round thing with orange ears and arms'),\n",
       " ('a small, black creature with yellow eyes, long ears and thin body',\n",
       "  'small black creature with yellow eyes, long ears, thin body'),\n",
       " ('a small, mouse like, blue animal with large blue ears',\n",
       "  'small blue mouse-like animal with big blue ears'),\n",
       " ('a small green creature with short arms',\n",
       "  'small green creature with short arms'),\n",
       " ('a red circular animal with yellow center and red ears',\n",
       "  'red round animal with a yellow center and red ears'),\n",
       " ('a small green creature with small legs and no arms',\n",
       "  'small green being with tiny legs and no arms'),\n",
       " ('a small red creature with small red ears and arms',\n",
       "  'small red creature with red ears and arms'),\n",
       " ('a small red creature with small red ears, beige face, three black eyes, beige feet',\n",
       "  'small red creature with red ears, beige face, three black eyes, beige feet'),\n",
       " ('a light green, bunny like creature with big ears, white smile',\n",
       "  'green bunny-like creature with big ears, white smile'),\n",
       " ('a small, red, fox like animal with orange ears and orange tail',\n",
       "  'small red fox-like creature with orange ears and tail'),\n",
       " ('a large, green, frog like animal with white stomach and circular arms',\n",
       "  'large green frog-like creature with white stomach, round arms'),\n",
       " ('a small light red creature with brown eyes and small arms',\n",
       "  'small light red being with brown eyes, short arms'),\n",
       " ('a large red and orange animal with orange ears, red tail',\n",
       "  'large red-orange creature with orange ears, red tail'),\n",
       " ('a small red, rectangular creature with small arms and small grey horns',\n",
       "  'small red rectangular thing with tiny arms and gray horns'),\n",
       " ('a large blue creature with a light blue center',\n",
       "  'large blue creature with light blue center'),\n",
       " ('a large, circular blue creature with circular blue ears and small legs',\n",
       "  'large round blue being with round blue ears, short legs'),\n",
       " ('Creature with a large, square-shaped head, green outfit with purple outlining the outfit',\n",
       "  'Creature with large square head, green outfit with purple borders'),\n",
       " ('A creature with large, bright red, bushy hair, a dark outfit with a yellow belt',\n",
       "  'A creature with big red bushy hair and dark outfit with yellow belt'),\n",
       " ('a small, black, circular character with one red eye, long black arms, a red glow and grey shadow',\n",
       "  'small black round figure with one red eye, long black arms, red glow, grey shadow'),\n",
       " ('a small red creature with brown horns and black legs',\n",
       "  'small red being with brown horns, black legs'),\n",
       " ('a blue, squid like creature with three black arms and white eyes',\n",
       "  'blue squid-like creature with three black arms and white eyes'),\n",
       " ('a small creature with a red circular head, large black eyes, pink blush, and brown legs',\n",
       "  'small thing with red round head, big black eyes, pink blush, brown legs'),\n",
       " ('a dark red, fox like animal with black eyes, white mouth, white center and tail',\n",
       "  'dark red fox-like animal with black eyes, white mouth, white center and tail'),\n",
       " ('a blue animal with circular blue ears, white mouth and black eye',\n",
       "  'blue being with round blue ears, white mouth, and black eye'),\n",
       " ('a large red animal with pointy ears, black nose and large tail',\n",
       "  'large red creature with pointy ears, black nose, large tail'),\n",
       " ('a large, light blue, bear like animal, with a white mouth, white ears and white center',\n",
       "  'large light blue bear-like animal with white mouth, white ears, white center'),\n",
       " ('a small, light green creature with red eyes and a beige center',\n",
       "  'small light green creature with red eyes and beige center'),\n",
       " ('a small, blue, mouse like animal with large blue circular ears and light blue center',\n",
       "  'small blue mouse-like animal with big circular blue ears, light blue center'),\n",
       " ('a large green character with long green arms, long green legs, pink center and pink hat',\n",
       "  'large green character with long green arms, legs, pink center and hat'),\n",
       " ('a green animal with green ears, yellow eyes, surrounded by purple and orange sparkles',\n",
       "  'green animal with green ears, yellow eyes, surrounded by sparkles of purple and orange'),\n",
       " ('a large, green, ciruclar creature with long black eyes, white center and small black legs',\n",
       "  'large round green creature with long black eyes, white center, short black legs'),\n",
       " ('a brown potato', 'brown potato'),\n",
       " ('a green cucumber', 'green cucumber'),\n",
       " ('a dark grey circular object', 'dark grey circle'),\n",
       " ('a tomato like object with a red circle connected to a green leaf',\n",
       "  'tomato-like thing with a red circle and green leaf'),\n",
       " ('a white onion with a green leaf', 'white onion with a green leaf'),\n",
       " ('a green apple', 'green apple'),\n",
       " ('a pink peach with a green leaf', 'pink peach with green leaf'),\n",
       " ('a pink peach with a green leaf', 'pink peach with green leaf'),\n",
       " ('a light brown turnip with a dark green leaf',\n",
       "  'light brown turnip with a dark green leaf'),\n",
       " ('a green pepper with a dark green stem', 'green pepper with a dark stem'),\n",
       " ('a purple plum with a dark green leaf',\n",
       "  'purple plum with a dark green leaf'),\n",
       " ('a long red chile pepper with green stem', 'long red chili with green stem'),\n",
       " ('a red tomato with a large green leaf', 'red tomato with a big green leaf'),\n",
       " ('a beige mushroom with purple stem', 'beige mushroom with purple stem'),\n",
       " ('a purple turnip with green leaf', 'purple turnip with green leaf'),\n",
       " ('a red apple with a green leaf', 'red apple with green leaf'),\n",
       " ('a sliced red apple with a green leaf', 'sliced red apple with green leaf'),\n",
       " ('a red pepper with green stem', 'red pepper with green stem'),\n",
       " ('an orange ginger', 'orange ginger root'),\n",
       " ('green grapes with a dark green stem', 'green grapes with dark green stem'),\n",
       " ('purple grapes with a dark green stem',\n",
       "  'purple grapes with dark green stem'),\n",
       " ('a beige and purple onion with a dark green leaf',\n",
       "  'beige-purple onion with dark green leaf'),\n",
       " ('a orange orange fruit with a dark green leaf',\n",
       "  'orange fruit with dark green leaf'),\n",
       " ('a brown coconut', 'brown coconut'),\n",
       " ('a green pepper with a dark green stem', 'green pepper with a dark stem'),\n",
       " ('an orange carrot with a green leaf', 'orange carrot with green leaf'),\n",
       " ('a brown rock', 'brown rock'),\n",
       " ('a sliced orange fruit', 'sliced orange fruit'),\n",
       " ('a red pepper with a dark green stem', 'red pepper with a dark green stem'),\n",
       " ('a red tomato with large green leaf', 'red tomato with big green leaf'),\n",
       " ('a red apple with a red stem', 'red apple with red stem'),\n",
       " ('a sliced red apple with a dark green stem',\n",
       "  'sliced red apple with dark green stem'),\n",
       " ('a green cabbage', 'green cabbage'),\n",
       " ('a pink peach with a dark green stem', 'pink peach with dark green stem'),\n",
       " ('a purple onion with a green leaf', 'purple onion with green leaf'),\n",
       " ('a pink peach with a dark green leaf', 'pink peach with a green leaf'),\n",
       " ('a red tomato with a large green leaf',\n",
       "  'red tomato with a large green leaf'),\n",
       " ('a yellow banana with a brown stem', 'yellow banana with brown stem'),\n",
       " ('a green cucumber', 'green cucumber'),\n",
       " ('a brown mushroom with a light brown stem:',\n",
       "  'brown mushroom with light brown stem'),\n",
       " ('a long red chile pepper with a green stem',\n",
       "  'long red chili with green stem'),\n",
       " ('a dark green broccoli', 'dark green broccoli'),\n",
       " ('a purple plum with a green leaf', 'purple plum with green leaf'),\n",
       " ('an orange orange fruit with a large green leaf',\n",
       "  'orange fruit with big green leaf'),\n",
       " ('an orange pineapple with green leaf', 'orange pineapple with green leaf'),\n",
       " ('an orange orange fruit with a large, dark green leaf',\n",
       "  'orange fruit with dark green leaf'),\n",
       " ('a sliced red apple with a dark green leaf:',\n",
       "  'sliced red apple with dark green leaf'),\n",
       " ('a sliced green apple with a dark green leaf',\n",
       "  'sliced green apple with dark green leaf'),\n",
       " ('a red tomato with a green stem', 'red tomato with green stem'),\n",
       " ('red cherries with a brown stem and dark green leaf',\n",
       "  'red cherries with brown stem and dark green leaf'),\n",
       " ('green cabbage', 'green cabbage'),\n",
       " ('a beige turnip with a long green stem',\n",
       "  'beige turnip with long green stem'),\n",
       " ('a green and dark green watermelon',\n",
       "  'green watermelon with dark green stripes'),\n",
       " ('a brown coconut', 'brown coconut'),\n",
       " ('a green pepper with a dark green stem',\n",
       "  'green pepper with dark green stem'),\n",
       " ('a green and dark green striped watermelon',\n",
       "  'green watermelon with dark green stripes'),\n",
       " ('an orange orange fruit with large dark green leaf',\n",
       "  'orange fruit with large dark green leaf'),\n",
       " ('a red tomato with a green stem', 'red tomato with green stem'),\n",
       " ('a brown coconut', 'brown coconut'),\n",
       " ('a red pepper with a green stem', 'red pepper with green stem'),\n",
       " ('a yellow bible with a red cross in the center',\n",
       "  'yellow bible with red cross'),\n",
       " ('a brown bible with a green cross in the center',\n",
       "  'brown bible with green cross'),\n",
       " ('a red rope with a silver pendant', 'red string with silver medallion'),\n",
       " ('a blue key', 'blue key'),\n",
       " ('a red sword with a black handle', 'red sword with black grip'),\n",
       " ('a red bible with a light red cross in the center',\n",
       "  'red bible with light red cross'),\n",
       " ('a red book with light red 8 in the center', 'red book with light red 8'),\n",
       " ('brown armor', 'brown armor'),\n",
       " ('a blue fish with grey fins and a grey tail',\n",
       "  'blue fish with gray fins and tail'),\n",
       " ('a red glove', 'red glove'),\n",
       " ('a green gemstone', 'green gem'),\n",
       " ('a red circle', 'red circle'),\n",
       " ('a black book with an 8 in the center', 'black book with an 8'),\n",
       " ('a blue and black shield', 'blue-black shield'),\n",
       " ('a blue helmet', 'blue helmet'),\n",
       " ('a purple torch', 'purple torch'),\n",
       " ('a green gemstone', 'green gem'),\n",
       " ('a brown helmet', 'brown helmet'),\n",
       " ('a brown book with a green center', 'brown book with green center'),\n",
       " ('a silver book with a yellow 8 in the center', 'silver book with yellow 8'),\n",
       " ('two brown coconuts', 'two brown coconuts'),\n",
       " ('a red apple with brown stem', 'red apple with brown stem'),\n",
       " ('a yellow and silver shield', 'yellow-silver shield'),\n",
       " ('a grey gemstone', 'grey gem'),\n",
       " ('a purple gemstone', 'purple gem'),\n",
       " ('a brown helmet', 'brown helmet'),\n",
       " ('a purple diamond', 'purple diamond'),\n",
       " ('a yellow necklace with a red pendant', 'yellow chain with red pendant'),\n",
       " ('a dark orange square gemstone', 'dark orange square gem'),\n",
       " ('a brown rock', 'brown rock'),\n",
       " ('a yellow diamond', 'yellow stone'),\n",
       " ('red armor', 'red armor'),\n",
       " ('a purple test tube with red liquid', 'purple test tube with red liquid'),\n",
       " ('a blue book with light blue in the center',\n",
       "  'blue book with light blue in center'),\n",
       " ('a dark red book with light grey 8 in the center',\n",
       "  'dark red book with light grey 8'),\n",
       " ('an orange fish with grey fins and grey tail',\n",
       "  'orange fish with gray fins and tail'),\n",
       " ('a yellow square helmet', 'yellow square helmet'),\n",
       " ('a brown glove', 'brown glove'),\n",
       " ('a purple test tube with blue liquid', 'purple test tube with blue liquid'),\n",
       " ('an arrow with green tip, brown shaft and green feather',\n",
       "  'arrow with green tip, brown shaft, green feather'),\n",
       " ('a brown key', 'brown key'),\n",
       " ('a grey ring with a red gem', 'grey ring with a red gem'),\n",
       " ('a blue test tube with red liquid', 'blue test tube with red liquid'),\n",
       " ('a grey bar', 'grey bar'),\n",
       " ('a brown bar', 'brown bar'),\n",
       " ('a striped, yellow box with a grey bow', 'striped yellow box with grey bow'),\n",
       " ('a yellow rock', 'yellow rock'),\n",
       " ('a black ring with a blue gem', 'black ring with blue gem'),\n",
       " ('a blue test tube with black liquid', 'blue test tube with black liquid'),\n",
       " ('a red book with light red center', 'red book with light red center'),\n",
       " ('a grey sword with a yellow handle', 'grey sword with yellow grip'),\n",
       " ('a blue and white striped gift', 'blue-white gift with stripes'),\n",
       " ('a red bow', 'red ribbon'),\n",
       " ('a grey ball', 'grey sphere'),\n",
       " ('a bow with yellow tip, grey shaft and yellow feather',\n",
       "  'grey arrow with yellow tip, shaft, feather'),\n",
       " ('a grey ring', 'grey band'),\n",
       " ('a blue and black shield', 'blue-black shield'),\n",
       " ('a grey book with light grey center', 'grey book with light grey center'),\n",
       " ('a light red box', 'light red box'),\n",
       " ('a grey gemstone', 'grey gem')]"
      ]
     },
     "execution_count": 20,
     "metadata": {},
     "output_type": "execute_result"
    }
   ],
   "execution_count": 20
  },
  {
   "cell_type": "code",
   "id": "cb2e826bf6adf831",
   "metadata": {
    "ExecuteTime": {
     "end_time": "2024-07-31T01:22:52.390791Z",
     "start_time": "2024-07-31T01:21:03.537755Z"
    }
   },
   "source": [
    "# Get GPT embeddings and additional noise \n",
    "embeddings_gpt, _ = llm.get_sent_word_embeddings(labels_gpt, LLM_MODEL, LLM_TOKENIZER)\n",
    "embeddings_aug_gpt, idxs_aug_gpt = augmentation.interpolate_embeddings(embeddings, embeddings_gpt, n_steps=1)"
   ],
   "outputs": [],
   "execution_count": 22
  },
  {
   "cell_type": "code",
   "id": "691fbcf5be4415",
   "metadata": {
    "ExecuteTime": {
     "end_time": "2024-07-31T01:22:52.453063Z",
     "start_time": "2024-07-31T01:22:52.392822Z"
    }
   },
   "source": [
    "def _rearrange(lst, idxs):\n",
    "    \"\"\"\n",
    "    shortcut for list comprehension to reorder as python lists don't behave like ndarrays\n",
    "    but the tokenizers require python lists -> easier to rearrange lists than the other way around\n",
    "    :param lst: python 1d list \n",
    "    :param idxs: list of indices to reorder \n",
    "    :return: reordered list \n",
    "    \"\"\"\n",
    "    return [lst[i] for i in idxs]"
   ],
   "outputs": [],
   "execution_count": 23
  },
  {
   "cell_type": "code",
   "id": "d886878bec82ad44",
   "metadata": {
    "ExecuteTime": {
     "end_time": "2024-07-31T01:22:52.493588Z",
     "start_time": "2024-07-31T01:22:52.455947Z"
    }
   },
   "source": [
    "def to_hex(rgb_colors):\n",
    "    return ['#{:02x}{:02x}{:02x}'.format(r, g, b) for (r,g,b) in rgb_colors]"
   ],
   "outputs": [],
   "execution_count": 24
  },
  {
   "cell_type": "code",
   "id": "4be42784d62ce258",
   "metadata": {
    "ExecuteTime": {
     "end_time": "2024-07-31T01:25:49.157040Z",
     "start_time": "2024-07-31T01:25:49.085097Z"
    }
   },
   "source": [
    "\n",
    "# generate final training data\n",
    "\n",
    "training_images = (images_oht, images_oht[idxs_aug_noise], images_aug_mixup, images_oht, images_oht[idxs_aug_gpt])\n",
    "\n",
    "labels_aug_noise = _rearrange(LABELS, idxs_aug_noise)\n",
    "labels_aug_gpt = _rearrange(LABELS, idxs_aug_gpt)\n",
    "\n",
    "training_labels = (LABELS, labels_aug_noise, labels_aug_mixup, labels_gpt, labels_aug_gpt)\n",
    "training_embeddings = (embeddings, embeddings_noise, embeddings_aug_mixup, embeddings_gpt, embeddings_aug_gpt)\n",
    "training_categories = (\n",
    "    np.full(len(LABELS), 'original'), \n",
    "    np.full(len(labels_aug_noise), 'noise'), \n",
    "    np.full(len(labels_aug_mixup), 'mixup'),\n",
    "    np.full(len(labels_gpt), 'gpt'),\n",
    "    np.full(len(labels_aug_gpt), 'gpt embedding interpolation'))\n",
    "\n",
    "num_samples = len(LABELS)\n",
    "idxs = list(range(num_samples))\n",
    "ids = np.asarray(idxs + idxs_aug_noise + idxs_aug_gpt + idxs + idxs_aug_gpt)\n",
    "\n",
    "data_train = {\n",
    "    'ids': ids,\n",
    "    'images': np.concatenate(training_images, axis=0),\n",
    "    'labels': np.concatenate(training_labels, axis=0),\n",
    "    'embeddings': np.concatenate(training_embeddings, axis=0),\n",
    "    'categories': np.concatenate(training_categories, axis=0),\n",
    "    'rgb_colors': rgb_colors,\n",
    "    'hex_colors': to_hex(rgb_colors),\n",
    "}\n",
    "\n",
    "np.save('datasets/data_train.npy', data_train, allow_pickle=True)"
   ],
   "outputs": [],
   "execution_count": 28
  },
  {
   "cell_type": "markdown",
   "id": "8a2d777a19bfdef8",
   "metadata": {
    "jupyter": {
     "is_executing": true
    }
   },
   "source": [
    "# Train the model"
   ]
  },
  {
   "cell_type": "code",
   "id": "53a421af7ed2fbe",
   "metadata": {
    "ExecuteTime": {
     "end_time": "2024-07-31T01:22:52.553418Z",
     "start_time": "2024-07-31T01:22:52.553367Z"
    }
   },
   "source": [
    "# model hyperparams"
   ],
   "outputs": [],
   "execution_count": null
  },
  {
   "cell_type": "code",
   "id": "2ebe0e79e8b0a2b",
   "metadata": {
    "ExecuteTime": {
     "end_time": "2024-07-31T01:22:52.554544Z",
     "start_time": "2024-07-31T01:22:52.554282Z"
    }
   },
   "source": [
    "# model tuning"
   ],
   "outputs": [],
   "execution_count": null
  },
  {
   "cell_type": "markdown",
   "id": "7d64d202d43c17b8",
   "metadata": {
    "jupyter": {
     "is_executing": true
    }
   },
   "source": [
    "# CLIP"
   ]
  },
  {
   "cell_type": "code",
   "id": "6e6eb49ad3a18f05",
   "metadata": {
    "ExecuteTime": {
     "end_time": "2024-07-31T01:26:38.214700Z",
     "start_time": "2024-07-31T01:26:38.090304Z"
    }
   },
   "source": [
    "rgb_images = images.convert_images_to_rgb(images_oht[:5], rgb_colors)\n",
    "labels = LABELS[:5]\n",
    "\n",
    "fig, ax = plt.subplots(1,2)\n",
    "ax[0].imshow(IMAGES[3])\n",
    "ax[1].imshow(rgb_images[3])\n",
    "plt.show()\n",
    "PRE_PROMPT = 'a pixelated, pixel-art image of '\n",
    "\n",
    "annotated_labels = [PRE_PROMPT + l for l in labels]\n",
    "annotated_labels"
   ],
   "outputs": [
    {
     "data": {
      "text/plain": [
       "<Figure size 640x480 with 2 Axes>"
      ],
      "image/png": "[encoded data removed]"
     },
     "metadata": {},
     "output_type": "display_data"
    },
    {
     "data": {
      "text/plain": [
       "['a pixelated, pixel-art image of a creature with brown shirt, blue and white pants, dense teal blue hair',\n",
       " 'a pixelated, pixel-art image of a brown character with large blonde hair, a pink shirt and black pants',\n",
       " 'a pixelated, pixel-art image of A brown character with red shirt, blue pants and white hair with faux bald haircut',\n",
       " 'a pixelated, pixel-art image of Brown character with black shirt, white pants and golden hair with spikes on right side',\n",
       " 'a pixelated, pixel-art image of character with long purple hair and gray hat wearing brown shirt and black pants']"
      ]
     },
     "execution_count": 34,
     "metadata": {},
     "output_type": "execute_result"
    }
   ],
   "execution_count": 34
  },
  {
   "cell_type": "markdown",
   "id": "47b8a0842a51696f",
   "metadata": {
    "jupyter": {
     "is_executing": true
    }
   },
   "source": []
  },
  {
   "cell_type": "code",
   "id": "e0fbcbdaef99150d",
   "metadata": {
    "ExecuteTime": {
     "end_time": "2024-07-31T01:26:40.499752Z",
     "start_time": "2024-07-31T01:26:40.422834Z"
    }
   },
   "source": [
    "# Preprocess images and texts\n",
    "inputs = CLIP_PROCESSOR(text=annotated_labels, images=rgb_images, return_tensors=\"pt\", padding=True)"
   ],
   "outputs": [],
   "execution_count": 35
  },
  {
   "cell_type": "code",
   "id": "486c59f64cf7d132",
   "metadata": {
    "ExecuteTime": {
     "end_time": "2024-07-31T01:26:46.583100Z",
     "start_time": "2024-07-31T01:26:41.358326Z"
    }
   },
   "source": [
    "# Generate embeddings\n",
    "with torch.no_grad():\n",
    "    outputs = CLIP_MODEL(**inputs)\n",
    "\n",
    "# Get image and text embeddings\n",
    "image_embeddings = outputs.image_embeds\n",
    "text_embeddings = outputs.text_embeds"
   ],
   "outputs": [],
   "execution_count": 36
  },
  {
   "cell_type": "code",
   "id": "efc934552555475a",
   "metadata": {
    "ExecuteTime": {
     "end_time": "2024-07-31T01:26:46.640978Z",
     "start_time": "2024-07-31T01:26:46.587984Z"
    }
   },
   "source": [
    "import torch.nn.functional as F\n",
    "\n",
    "similarity = nn.CosineSimilarity(dim=1, eps=1e-6)\n",
    "print(similarity(image_embeddings, text_embeddings))"
   ],
   "outputs": [
    {
     "name": "stdout",
     "output_type": "stream",
     "text": [
      "tensor([0.3326, 0.3082, 0.3495, 0.3068, 0.3039])\n"
     ]
    }
   ],
   "execution_count": 37
  }
 ],
 "metadata": {
  "kernelspec": {
   "display_name": "Python 3 (ipykernel)",
   "language": "python",
   "name": "python3"
  },
  "language_info": {
   "codemirror_mode": {
    "name": "ipython",
    "version": 3
   },
   "file_extension": ".py",
   "mimetype": "text/x-python",
   "name": "python",
   "nbconvert_exporter": "python",
   "pygments_lexer": "ipython3",
   "version": "3.9.18"
  }
 },
 "nbformat": 4,
 "nbformat_minor": 5
}
